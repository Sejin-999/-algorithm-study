{
 "cells": [
  {
   "cell_type": "code",
   "execution_count": 1,
   "id": "35541a7f",
   "metadata": {},
   "outputs": [
    {
     "name": "stdout",
     "output_type": "stream",
     "text": [
      "3 7 9\n",
      "63\n"
     ]
    }
   ],
   "source": [
    "#6091 : [기초-종합] 함께 문제 푸는 날(설명)(py) 해결\n",
    "\n",
    "day =1\n",
    "a,b,c = map(int, input().split()) \n",
    "\n",
    "while day%a!=0  or day%b !=0 or day%c !=0 :\n",
    "    day +=1\n",
    "\n",
    "    \n",
    "print(day)\n",
    "\n"
   ]
  },
  {
   "cell_type": "code",
   "execution_count": 32,
   "id": "a89f12cf",
   "metadata": {},
   "outputs": [
    {
     "name": "stdout",
     "output_type": "stream",
     "text": [
      "10\n",
      "1 3 2 2 5 6 7 4 5 9\n",
      "1\n",
      "2\n",
      "1\n",
      "1\n",
      "2\n",
      "1\n",
      "1\n",
      "0\n",
      "1\n",
      "0\n",
      "0\n",
      "0\n",
      "0\n",
      "0\n",
      "0\n",
      "0\n",
      "0\n",
      "0\n",
      "0\n",
      "0\n",
      "0\n",
      "0\n",
      "0\n"
     ]
    }
   ],
   "source": [
    "#6092 : [기초-리스트] 이상한 출석 번호 부르기1(설명)(py) 해결\n",
    "\n",
    "call = int(input())\n",
    "flag =0\n",
    "call_list = []\n",
    "callStudent = [set() for _ in range(24)]\n",
    "\n",
    "\n",
    "call_list =list(map(int, input().split()))\n",
    "\n",
    "    \n",
    "# call_student reset  \n",
    "for i in range(1,24):\n",
    "    callStudent[i].add(0)\n",
    "    \n",
    "for j in range(call):\n",
    "    temp = call_list[j]\n",
    "    value = next(iter(callStudent[temp]))\n",
    "    value = int(value)\n",
    "    value +=1\n",
    "    callStudent[temp] = set([str(value)])\n",
    "    \n",
    "for k in range(1,len(callStudent)):\n",
    "    value = next(iter(callStudent[k]))\n",
    "    print(value)"
   ]
  },
  {
   "cell_type": "markdown",
   "id": "44b85f60",
   "metadata": {},
   "source": [
    "### "
   ]
  },
  {
   "cell_type": "code",
   "execution_count": 39,
   "id": "843ce0fa",
   "metadata": {},
   "outputs": [
    {
     "name": "stdout",
     "output_type": "stream",
     "text": [
      "10\n",
      "10 4 2 3 6 6 7 9 8 5\n",
      "5\n",
      "8\n",
      "9\n",
      "7\n",
      "6\n",
      "6\n",
      "3\n",
      "2\n",
      "4\n",
      "10\n"
     ]
    }
   ],
   "source": [
    "# 6093 : [기초-리스트] 이상한 출석 번호 부르기2(py)\n",
    "call = int(input())\n",
    "call_list = []\n",
    "call_list =list(map(int, input().split()))\n",
    "size_list = len(call_list)\n",
    "\n",
    "for i in call_list:\n",
    "    print(call_list[size_list-1])\n",
    "    size_list -=1\n",
    "\n"
   ]
  },
  {
   "cell_type": "code",
   "execution_count": 46,
   "id": "9380356b",
   "metadata": {},
   "outputs": [
    {
     "name": "stdout",
     "output_type": "stream",
     "text": [
      "10\n",
      "10 4 2 3 6 6 7 9 8 5\n",
      "2\n"
     ]
    }
   ],
   "source": [
    "#6094 : [기초-리스트] 이상한 출석 번호 부르기3(py) // min\n",
    "call = int(input())\n",
    "call_list = list(map(int, input().split()))\n",
    "\n",
    "min_num = call_list[0]\n",
    "\n",
    "for num in call_list:\n",
    "    if num < min_num:\n",
    "        min_num = num\n",
    "\n",
    "print(min_num)\n"
   ]
  },
  {
   "cell_type": "code",
   "execution_count": 61,
   "id": "720648ef",
   "metadata": {},
   "outputs": [
    {
     "name": "stdout",
     "output_type": "stream",
     "text": [
      "5\n",
      "1 1\n",
      "2 2\n",
      "3 3\n",
      "4 4\n",
      "5 5\n",
      "\n",
      "1 0 0 0 0 0 0 0 0 0 0 0 0 0 0 0 0 0 \n",
      "0 1 0 0 0 0 0 0 0 0 0 0 0 0 0 0 0 0 \n",
      "0 0 1 0 0 0 0 0 0 0 0 0 0 0 0 0 0 0 \n",
      "0 0 0 1 0 0 0 0 0 0 0 0 0 0 0 0 0 0 \n",
      "0 0 0 0 1 0 0 0 0 0 0 0 0 0 0 0 0 0 \n",
      "0 0 0 0 0 0 0 0 0 0 0 0 0 0 0 0 0 0 \n",
      "0 0 0 0 0 0 0 0 0 0 0 0 0 0 0 0 0 0 \n",
      "0 0 0 0 0 0 0 0 0 0 0 0 0 0 0 0 0 0 \n",
      "0 0 0 0 0 0 0 0 0 0 0 0 0 0 0 0 0 0 \n",
      "0 0 0 0 0 0 0 0 0 0 0 0 0 0 0 0 0 0 \n",
      "0 0 0 0 0 0 0 0 0 0 0 0 0 0 0 0 0 0 \n",
      "0 0 0 0 0 0 0 0 0 0 0 0 0 0 0 0 0 0 \n",
      "0 0 0 0 0 0 0 0 0 0 0 0 0 0 0 0 0 0 \n",
      "0 0 0 0 0 0 0 0 0 0 0 0 0 0 0 0 0 0 \n",
      "0 0 0 0 0 0 0 0 0 0 0 0 0 0 0 0 0 0 \n",
      "0 0 0 0 0 0 0 0 0 0 0 0 0 0 0 0 0 0 \n",
      "0 0 0 0 0 0 0 0 0 0 0 0 0 0 0 0 0 0 \n",
      "0 0 0 0 0 0 0 0 0 0 0 0 0 0 0 0 0 0 "
     ]
    }
   ],
   "source": [
    "#6095 : [기초-리스트] 바둑판에 흰 돌 놓기(설명)(py)\n",
    "\n",
    "arr = [[0]*19 for _ in range(19)]\n",
    "        \n",
    "input_val = int(input())\n",
    "flag = 0\n",
    "\n",
    "while flag < input_val :\n",
    "    a,b = map(int, input().split()) \n",
    "    arr[a][b] = 1\n",
    "    flag +=1\n",
    "    \n",
    "for i in range(1 , len(arr)) :\n",
    "    print()\n",
    "    for j in range(1 , len(arr)):\n",
    "        print(arr[i][j] ,end =' ' )\n"
   ]
  },
  {
   "cell_type": "markdown",
   "id": "5285ed0a",
   "metadata": {},
   "source": [
    "# "
   ]
  },
  {
   "cell_type": "code",
   "execution_count": 64,
   "id": "aa637115",
   "metadata": {},
   "outputs": [
    {
     "name": "stdout",
     "output_type": "stream",
     "text": [
      "0 0 0 0 0 0 0 0 0 1 0 1 0 0 0 0 0 0 0\n",
      "0 0 0 0 0 0 0 0 0 1 0 1 0 0 0 0 0 0 0\n",
      "0 0 0 0 0 0 0 0 0 1 0 1 0 0 0 0 0 0 0\n",
      "0 0 0 0 0 0 0 0 0 1 0 1 0 0 0 0 0 0 0\n",
      "0 0 0 0 0 0 0 0 0 1 0 1 0 0 0 0 0 0 0\n",
      "0 0 0 0 0 0 0 0 0 1 0 1 0 0 0 0 0 0 0\n",
      "0 0 0 0 0 0 0 0 0 1 0 1 0 0 0 0 0 0 0\n",
      "0 0 0 0 0 0 0 0 0 1 0 1 0 0 0 0 0 0 0\n",
      "0 0 0 0 0 0 0 0 0 1 0 1 0 0 0 0 0 0 0\n",
      "0 0 0 0 0 0 0 0 0 1 0 1 0 0 0 0 0 0 0\n",
      "0 0 0 0 0 0 0 0 0 1 0 1 0 0 0 0 0 0 0\n",
      "0 0 0 0 0 0 0 0 0 1 0 1 0 0 0 0 0 0 0\n",
      "0 0 0 0 0 0 0 0 0 1 0 1 0 0 0 0 0 0 0\n",
      "0 0 0 0 0 0 0 0 0 1 0 1 0 0 0 0 0 0 00 0 0 0 0 0 0 0 0 1 0 1 0 0 0 0 0 0 0\n",
      "0 0 0 0 0 0 0 0 0 1 0 1 0 0 0 0 0 0 0\n",
      "0 0 0 0 0 0 0 0 0 1 0 1 0 0 0 0 0 0 0\n",
      "0 0 0 0 0 0 0 0 0 1 0 1 0 0 0 0 0 0 0\n",
      "0 0 0 0 0 0 0 0 0 1 0 1 0 0 0 0 0 0 0\n",
      "0 0 0 0 0 0 0 0 0 1 0 1 0 0 0 0 0 0 0\n",
      "입력된 배열:\n",
      "0 0 0 0 0 0 0 0 0 1 0 1 0 0 0 0 0 0 0 \n",
      "0 0 0 0 0 0 0 0 0 1 0 1 0 0 0 0 0 0 0 \n",
      "0 0 0 0 0 0 0 0 0 1 0 1 0 0 0 0 0 0 0 \n",
      "0 0 0 0 0 0 0 0 0 1 0 1 0 0 0 0 0 0 0 \n",
      "0 0 0 0 0 0 0 0 0 1 0 1 0 0 0 0 0 0 0 \n",
      "0 0 0 0 0 0 0 0 0 1 0 1 0 0 0 0 0 0 0 \n",
      "0 0 0 0 0 0 0 0 0 1 0 1 0 0 0 0 0 0 0 \n",
      "0 0 0 0 0 0 0 0 0 1 0 1 0 0 0 0 0 0 0 \n",
      "0 0 0 0 0 0 0 0 0 1 0 1 0 0 0 0 0 0 0 \n",
      "0 0 0 0 0 0 0 0 0 1 0 1 0 0 0 0 0 0 0 \n",
      "0 0 0 0 0 0 0 0 0 1 0 1 0 0 0 0 0 0 0 \n",
      "0 0 0 0 0 0 0 0 0 1 0 1 0 0 0 0 0 0 0 \n",
      "0 0 0 0 0 0 0 0 0 1 0 1 0 0 0 0 0 0 0 \n",
      "0 0 0 0 0 0 0 0 0 1 0 1 0 0 0 0 0 0 0 \n",
      "0 0 0 0 0 0 0 0 0 1 0 1 0 0 0 0 0 0 0 \n",
      "0 0 0 0 0 0 0 0 0 1 0 1 0 0 0 0 0 0 0 \n",
      "0 0 0 0 0 0 0 0 0 1 0 1 0 0 0 0 0 0 0 \n",
      "0 0 0 0 0 0 0 0 0 1 0 1 0 0 0 0 0 0 0 \n",
      "0 0 0 0 0 0 0 0 0 1 0 1 0 0 0 0 0 0 0 \n"
     ]
    }
   ],
   "source": [
    "# 19*19 크기의 이중배열\n",
    "arr = [[0 for j in range(19)] for i in range(19)]\n",
    "\n",
    "for i in range(19):\n",
    "    values = input()\n",
    "    values = values.split()\n",
    "    for j in range(19):\n",
    "        arr[i][j] = int(values[j])\n",
    "\n",
    "for i in range(19):\n",
    "    for j in range(19):\n",
    "        print(arr[i][j], end=' ')\n",
    "    print()\n",
    "\n"
   ]
  },
  {
   "cell_type": "code",
   "execution_count": 84,
   "id": "e8adfe75",
   "metadata": {
    "scrolled": true
   },
   "outputs": [
    {
     "name": "stdout",
     "output_type": "stream",
     "text": [
      "5 5\n",
      "0 0 0 0 0 \n",
      "0 0 0 0 0 \n",
      "0 0 0 0 0 \n",
      "0 0 0 0 0 \n",
      "0 0 0 0 0 \n",
      "3\n",
      "2 0 1 1\n",
      "3 1 2 3\n",
      "4 1 2 5\n",
      "0 0 0 0 0 \n",
      "0 1 0 0 0 \n",
      "0 1 0 1 1 \n",
      "0 0 0 0 0 \n",
      "0 0 0 0 0 \n"
     ]
    }
   ],
   "source": [
    "# 첫 줄에 격자판의 세로(h), 가로(w) 가 공백을 두고 입력되고,\n",
    "# 두 번째 줄에 놓을 수 있는 막대의 개수(n)\n",
    "# 세 번째 줄부터 각 막대의 길이(l), 방향(d), 좌표(x, y)가 입력된다.\n",
    "# d 0 or 1 0 이면 가로 1이면 세로\n",
    "h,w = map(int, input().split()) \n",
    "arr = [[0 for j in range(w)] for i in range(h)]\n",
    "\n",
    "for i in range(h):\n",
    "    for j in range(w):\n",
    "        print(arr[i][j], end=' ')\n",
    "    print()\n",
    "\n",
    "n = int(input())\n",
    "flag = 0\n",
    "while flag < n : \n",
    "    l,d,x,y = map(int, input().split())\n",
    "    yx_flag =0\n",
    "\n",
    "    if d == 0:\n",
    "        for _ in range(l) :\n",
    "            if x + yx_flag >= h:  # 격자판을 벗어나는 경우\n",
    "                break\n",
    "            if arr[x+yx_flag][y] != 0:  # 이미 값이 채워진 경우\n",
    "                break\n",
    "            arr[x+yx_flag][y] = 1\n",
    "            yx_flag+=1\n",
    "\n",
    "    if d == 1:\n",
    "        for _ in range(l) :\n",
    "            if y + yx_flag >= w:  # 격자판을 벗어나는 경우\n",
    "                break\n",
    "            if arr[x][y+yx_flag] != 0:  # 이미 값이 채워진 경우\n",
    "                break\n",
    "            arr[x][y+yx_flag] = 1\n",
    "            yx_flag+=1\n",
    "            \n",
    "    flag +=1\n",
    "\n",
    "for i in range(h):\n",
    "    for j in range(w):\n",
    "        print(arr[i][j], end=' ')\n",
    "    print()\n",
    "\n",
    "    "
   ]
  },
  {
   "cell_type": "code",
   "execution_count": null,
   "id": "42c2ad58",
   "metadata": {},
   "outputs": [],
   "source": []
  },
  {
   "cell_type": "code",
   "execution_count": null,
   "id": "78d9b5fc",
   "metadata": {},
   "outputs": [],
   "source": []
  }
 ],
 "metadata": {
  "kernelspec": {
   "display_name": "Python 3 (ipykernel)",
   "language": "python",
   "name": "python3"
  },
  "language_info": {
   "codemirror_mode": {
    "name": "ipython",
    "version": 3
   },
   "file_extension": ".py",
   "mimetype": "text/x-python",
   "name": "python",
   "nbconvert_exporter": "python",
   "pygments_lexer": "ipython3",
   "version": "3.9.13"
  }
 },
 "nbformat": 4,
 "nbformat_minor": 5
}
