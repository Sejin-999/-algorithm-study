{
 "cells": [
  {
   "cell_type": "code",
   "execution_count": 9,
   "id": "c14b3708",
   "metadata": {},
   "outputs": [
    {
     "name": "stdout",
     "output_type": "stream",
     "text": [
      "1\n",
      "2\n",
      "3\n",
      "0\n",
      "4\n",
      "5\n",
      "6\n",
      "2\n",
      "1\n",
      "8\n",
      "4\n",
      "1\n",
      "2\n",
      "3\n"
     ]
    }
   ],
   "source": [
    "#6071 : [기초-반복실행구조] 0 입력될 때까지 무한 출력하기(설명)(py)\n",
    "\n",
    "flag = 0;\n",
    "list= [];\n",
    "while True:\n",
    "    if flag <11 :\n",
    "        data = int(input())\n",
    "        list.append(data)\n",
    "        flag +=1;\n",
    "    else:\n",
    "        break\n",
    "        \n",
    "for a in list :\n",
    "    if a != 0 :\n",
    "        print(a)\n",
    "    else :\n",
    "        break"
   ]
  },
  {
   "cell_type": "code",
   "execution_count": 12,
   "id": "ee0c8570",
   "metadata": {},
   "outputs": [
    {
     "name": "stdout",
     "output_type": "stream",
     "text": [
      "6\n",
      "5\n",
      "4\n",
      "3\n",
      "2\n",
      "1\n",
      "0\n"
     ]
    }
   ],
   "source": [
    "#6073 : [기초-반복실행구조] 정수 1개 입력받아 카운트다운 출력하기2(설명)(py)\n",
    "a = int(input())\n",
    "a -=1\n",
    "while a >= 0 :\n",
    "    print(a)\n",
    "    a -=1\n"
   ]
  },
  {
   "cell_type": "code",
   "execution_count": 13,
   "id": "9e41adc6",
   "metadata": {},
   "outputs": [
    {
     "name": "stdout",
     "output_type": "stream",
     "text": [
      "e\n",
      "a b c d e "
     ]
    }
   ],
   "source": [
    "#6074 : [기초-반복실행구조] 문자 1개 입력받아 알파벳 출력하기(설명)(py)\n",
    "c = ord(input())\n",
    "t = ord('a')\n",
    "while t<=c :\n",
    "  print(chr(t), end=' ')\n",
    "  t += 1"
   ]
  },
  {
   "cell_type": "code",
   "execution_count": 15,
   "id": "5b75175a",
   "metadata": {},
   "outputs": [
    {
     "name": "stdout",
     "output_type": "stream",
     "text": [
      "4\n",
      "0\n",
      "1\n",
      "2\n",
      "3\n",
      "4\n"
     ]
    }
   ],
   "source": [
    "#6075 : [기초-반복실행구조] 정수 1개 입력받아 그 수까지 출력하기1(py)\n",
    "a = int(input())\n",
    "b = 0\n",
    "while b <= a:\n",
    "    print(b)\n",
    "    b+=1\n"
   ]
  },
  {
   "cell_type": "code",
   "execution_count": 16,
   "id": "204f28b5",
   "metadata": {},
   "outputs": [
    {
     "name": "stdout",
     "output_type": "stream",
     "text": [
      "6\n",
      "0\n",
      "1\n",
      "2\n",
      "3\n",
      "4\n",
      "5\n",
      "6\n"
     ]
    }
   ],
   "source": [
    "#6076 : [기초-반복실행구조] 정수 1개 입력받아 그 수까지 출력하기2(설명)(py)\n",
    "n = int(input())\n",
    "for i in range(n+1) :\n",
    "  print(i)"
   ]
  },
  {
   "cell_type": "code",
   "execution_count": 19,
   "id": "573605c2",
   "metadata": {},
   "outputs": [
    {
     "name": "stdout",
     "output_type": "stream",
     "text": [
      "8\n",
      "20\n"
     ]
    }
   ],
   "source": [
    "#6077 : [기초-종합] 짝수 합 구하기(설명)(py)\n",
    "\n",
    "n = int(input())\n",
    "s = 0\n",
    "for i in range(1, n+1) :\n",
    "  if i%2==0 :\n",
    "    s += i\n",
    "    \n",
    "print(s)"
   ]
  },
  {
   "cell_type": "code",
   "execution_count": 21,
   "id": "17d1a159",
   "metadata": {},
   "outputs": [
    {
     "name": "stdout",
     "output_type": "stream",
     "text": [
      "a\n",
      "v\n",
      "g\n",
      "q\n",
      "a\n",
      "v\n",
      "g\n"
     ]
    }
   ],
   "source": [
    "#6078 : [기초-종합] 원하는 문자가 입력될 때까지 반복 출력하기(py)\n",
    "\n",
    "list= [];\n",
    "\n",
    "\n",
    "while True:\n",
    "    data = input()\n",
    "    \n",
    "    if data != 'q':\n",
    "        list.append(data)\n",
    "    else:\n",
    "        break\n",
    "        \n",
    "for a in list :\n",
    "    print(a)"
   ]
  },
  {
   "cell_type": "markdown",
   "id": "89e64a2e",
   "metadata": {},
   "source": [
    "n = int(input())\n",
    "a = 0\n",
    "\n",
    "while \n"
   ]
  },
  {
   "cell_type": "code",
   "execution_count": 3,
   "id": "161cb911",
   "metadata": {},
   "outputs": [
    {
     "name": "stdout",
     "output_type": "stream",
     "text": [
      "55\n",
      "10\n"
     ]
    }
   ],
   "source": [
    "#6079 : [기초-종합] 언제까지 더해야 할까?(py)\n",
    "\n",
    "n = int(input())  # 입력받은 정수\n",
    "\n",
    "total = 0  # 합을 저장할 변수\n",
    "i = 1  # 시작 값\n",
    "\n",
    "while total < n:\n",
    "    total += i  # 현재 값(i)을 합(total)에 더함\n",
    "    i += 1  # 다음 값으로 이동\n",
    "\n",
    "print(i-1)  # 마지막에 더한 값 출력"
   ]
  },
  {
   "cell_type": "code",
   "execution_count": 5,
   "id": "9c7b683b",
   "metadata": {},
   "outputs": [
    {
     "name": "stdout",
     "output_type": "stream",
     "text": [
      "2 3\n",
      "1 1\n",
      "1 2\n",
      "1 3\n",
      "2 1\n",
      "2 2\n",
      "2 3\n"
     ]
    }
   ],
   "source": [
    "# 6080 : [기초-종합] 주사위 2개 던지기(설명)(py) 해결\n",
    "\n",
    "a, b = map(int, input().split())\n",
    "\n",
    "for i in range(1 , a+1):\n",
    "    for j in range(1 , b+1):\n",
    "        print (i , j)\n"
   ]
  },
  {
   "cell_type": "code",
   "execution_count": null,
   "id": "f717e43e",
   "metadata": {},
   "outputs": [],
   "source": []
  }
 ],
 "metadata": {
  "kernelspec": {
   "display_name": "Python 3 (ipykernel)",
   "language": "python",
   "name": "python3"
  },
  "language_info": {
   "codemirror_mode": {
    "name": "ipython",
    "version": 3
   },
   "file_extension": ".py",
   "mimetype": "text/x-python",
   "name": "python",
   "nbconvert_exporter": "python",
   "pygments_lexer": "ipython3",
   "version": "3.9.13"
  }
 },
 "nbformat": 4,
 "nbformat_minor": 5
}
