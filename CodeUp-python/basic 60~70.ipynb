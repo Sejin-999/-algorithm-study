{
 "cells": [
  {
   "cell_type": "code",
   "execution_count": 1,
   "id": "49ff2a38",
   "metadata": {},
   "outputs": [
    {
     "name": "stdout",
     "output_type": "stream",
     "text": [
      "3 5\n",
      "7\n"
     ]
    }
   ],
   "source": [
    "#61 or (|) bit연산자\n",
    "a, b = input().split()\n",
    "c = int(a)\n",
    "d = int(b)\n",
    "e = c|d\n",
    "print(e)"
   ]
  },
  {
   "cell_type": "code",
   "execution_count": 2,
   "id": "7e312f92",
   "metadata": {},
   "outputs": [
    {
     "name": "stdout",
     "output_type": "stream",
     "text": [
      "3 5\n",
      "6\n"
     ]
    }
   ],
   "source": [
    "#62 xor (^) bit연산자\n",
    "a, b = input().split()\n",
    "c = int(a)\n",
    "d = int(b)\n",
    "e = c^d\n",
    "print(e)"
   ]
  },
  {
   "cell_type": "code",
   "execution_count": 4,
   "id": "c400f3d6",
   "metadata": {},
   "outputs": [
    {
     "name": "stdout",
     "output_type": "stream",
     "text": [
      "126 333\n",
      "333\n"
     ]
    }
   ],
   "source": [
    "#63 비교연산자 3항 2개 - 큰값\n",
    "a, b = input().split()\n",
    "a = int(a)\n",
    "b = int(b)\n",
    "c = (a if (a>=b) else b)\n",
    "print(int(c))"
   ]
  },
  {
   "cell_type": "code",
   "execution_count": 15,
   "id": "34ebd55a",
   "metadata": {},
   "outputs": [
    {
     "name": "stdout",
     "output_type": "stream",
     "text": [
      "1 2 3\n",
      "1\n"
     ]
    }
   ],
   "source": [
    "#64 비교연산자 3항 3개 - 작은값\n",
    "a, b ,c = input().split()\n",
    "a = int(a)\n",
    "b = int(b)\n",
    "c= int(c)\n",
    "d = (a if a>b else b) if ((a if a>b else b)>c) else c  #큰값\n",
    "e = (b if a>b else a) if ((b if a>b else a)<c) else c # 직은값\n",
    "print(int(e))"
   ]
  },
  {
   "cell_type": "code",
   "execution_count": 28,
   "id": "dabfc925",
   "metadata": {},
   "outputs": [
    {
     "name": "stdout",
     "output_type": "stream",
     "text": [
      "2 6 8\n",
      "2\n",
      "6\n",
      "8\n"
     ]
    }
   ],
   "source": [
    "#65 짝수 출력 if\n",
    "\n",
    "a, b, c = map(int, input().split())\n",
    "\n",
    "lst = [a, b, c]\n",
    "print_lst = []\n",
    "\n",
    "for i in lst:\n",
    "    if i % 2 == 0:\n",
    "        print_lst.append(i)\n",
    "\n",
    "for i in print_lst:\n",
    "    print(i)\n",
    "\n",
    "\n"
   ]
  },
  {
   "cell_type": "code",
   "execution_count": 31,
   "id": "789a5b4d",
   "metadata": {},
   "outputs": [
    {
     "name": "stdout",
     "output_type": "stream",
     "text": [
      "1 2 8\n",
      "odd\n",
      "even\n",
      "even\n"
     ]
    }
   ],
   "source": [
    "#66 짝수 , 홀수 출력 if\n",
    "\n",
    "a, b, c = map(int, input().split())\n",
    "\n",
    "lst = [a, b, c]\n",
    "print_lst_even = []\n",
    "print_lst_odd = []\n",
    "\n",
    "for i in lst:\n",
    "    if i % 2 == 0:\n",
    "        print_lst.append(i)\n",
    "        print(\"even\")\n",
    "    else :\n",
    "        print_lst_odd.append(i)\n",
    "        print(\"odd\")\n",
    "        \n",
    "# for i in print_lst:\n",
    "#     print(i)\n"
   ]
  },
  {
   "cell_type": "code",
   "execution_count": 33,
   "id": "9a485e53",
   "metadata": {},
   "outputs": [
    {
     "name": "stdout",
     "output_type": "stream",
     "text": [
      " 6\n",
      "C\n"
     ]
    }
   ],
   "source": [
    "#6067 : [기초-조건/선택실행구조] 정수 1개 입력받아 분류하기\n",
    "\n",
    "a = input()\n",
    "a = int(a)\n",
    "\n",
    "\n",
    "if(a < 0):\n",
    "    # 음수\n",
    "    if(a % 2 == 0) : \n",
    "        print(\"A\")\n",
    "    else :\n",
    "        print(\"B\")\n",
    "    \n",
    "else : \n",
    "    #양수\n",
    "    if(a % 2 == 0 ):\n",
    "        print(\"C\")\n",
    "    else:\n",
    "        print(\"D\")\n",
    "\n"
   ]
  },
  {
   "cell_type": "code",
   "execution_count": 34,
   "id": "a4ac14dd",
   "metadata": {},
   "outputs": [
    {
     "name": "stdout",
     "output_type": "stream",
     "text": [
      "77\n",
      "B\n"
     ]
    }
   ],
   "source": [
    "#6068 : [기초-조건/선택실행구조] 점수 입력받아 평가 출력하기(설명)(py)\n",
    "n = input()\n",
    "n = int(n)\n",
    "\n",
    "if n>=90 :\n",
    "  print('A')\n",
    "else :\n",
    "  if n>=70 :\n",
    "    print('B')\n",
    "  else :\n",
    "    if n>=40 :\n",
    "      print('C')\n",
    "    else :\n",
    "      print('D') "
   ]
  },
  {
   "cell_type": "code",
   "execution_count": 38,
   "id": "b84bc5e1",
   "metadata": {},
   "outputs": [
    {
     "name": "stdout",
     "output_type": "stream",
     "text": [
      "A\n",
      "best!!!\n"
     ]
    }
   ],
   "source": [
    "#6069 : [기초-조건/선택실행구조] 평가 입력받아 다르게 출력하기(py)\n",
    "n = input()\n",
    "\n",
    "if n=='A' :\n",
    "  print('best!!!')\n",
    "else :\n",
    "    if n=='B' :\n",
    "      print('good!!')\n",
    "    else:\n",
    "        if n=='C' :\n",
    "          print('run!')\n",
    "        else :\n",
    "            if n=='D' :\n",
    "                print('slowly~') \n",
    "            else : \n",
    "                print('what?')"
   ]
  },
  {
   "cell_type": "code",
   "execution_count": 44,
   "id": "1cdf435e",
   "metadata": {},
   "outputs": [
    {
     "name": "stdout",
     "output_type": "stream",
     "text": [
      "1\n",
      "winter\n"
     ]
    }
   ],
   "source": [
    "#6070 : [기초-조건/선택실행구조] 월 입력받아 계절 출력하기(설명)(py)\n",
    "month = int(input())\n",
    "\n",
    "if month in [12, 1, 2]:\n",
    "    print(\"winter\")\n",
    "elif month in [3, 4, 5]:\n",
    "    print(\"spring\")\n",
    "elif month in [6, 7, 8]:\n",
    "    print(\"summer\")\n",
    "elif month in [9, 10, 11]:\n",
    "    print(\"fall\")\n",
    "else:\n",
    "    print(\"이상한거 입력함\")\n",
    "\n"
   ]
  },
  {
   "cell_type": "code",
   "execution_count": null,
   "id": "774e2fbd",
   "metadata": {},
   "outputs": [],
   "source": []
  },
  {
   "cell_type": "code",
   "execution_count": null,
   "id": "1cf78cbd",
   "metadata": {},
   "outputs": [],
   "source": []
  }
 ],
 "metadata": {
  "kernelspec": {
   "display_name": "Python 3 (ipykernel)",
   "language": "python",
   "name": "python3"
  },
  "language_info": {
   "codemirror_mode": {
    "name": "ipython",
    "version": 3
   },
   "file_extension": ".py",
   "mimetype": "text/x-python",
   "name": "python",
   "nbconvert_exporter": "python",
   "pygments_lexer": "ipython3",
   "version": "3.9.13"
  }
 },
 "nbformat": 4,
 "nbformat_minor": 5
}
