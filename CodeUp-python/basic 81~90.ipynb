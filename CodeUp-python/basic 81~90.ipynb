{
 "cells": [
  {
   "cell_type": "code",
   "execution_count": 5,
   "id": "f2c39514",
   "metadata": {},
   "outputs": [
    {
     "name": "stdout",
     "output_type": "stream",
     "text": [
      "A\n",
      "A*1=A\n",
      "A*2=14\n",
      "A*3=1E\n",
      "A*4=28\n",
      "A*5=32\n",
      "A*6=3C\n",
      "A*7=46\n",
      "A*8=50\n",
      "A*9=5A\n",
      "A*A=64\n",
      "A*B=6E\n",
      "A*C=78\n",
      "A*D=82\n",
      "A*E=8C\n",
      "A*F=96\n"
     ]
    }
   ],
   "source": [
    "#6081 : [기초-종합] 16진수 구구단 출력하기(py) 해결\n",
    "\n",
    "a = input()\n",
    "n = int(a, 16)\n",
    "for i in range(1, 16):\n",
    "    print('%X'%n, '*%X'%i, '=%X'%(n*i), sep='')"
   ]
  },
  {
   "cell_type": "code",
   "execution_count": 16,
   "id": "8dbd424e",
   "metadata": {},
   "outputs": [
    {
     "name": "stdout",
     "output_type": "stream",
     "text": [
      "19\n",
      "1\n",
      "2\n",
      "X\n",
      "4\n",
      "5\n",
      "X\n",
      "7\n",
      "8\n",
      "X\n",
      "10\n",
      "11\n",
      "12\n",
      "X\n",
      "14\n",
      "15\n",
      "X\n",
      "17\n",
      "18\n",
      "X\n"
     ]
    }
   ],
   "source": [
    "#6082 : [기초-종합] 3 6 9 게임의 왕이 되자(설명)(py)\n",
    "\n",
    "inputa = int(input())\n",
    "n =1\n",
    "while n <= inputa : \n",
    "    a = str(n)\n",
    "    \n",
    "    if \"3\" in a or \"6\" in a or \"9\" in a:\n",
    "        print(\"X\")\n",
    "    else :\n",
    "        print(n)\n",
    "        \n",
    "    n+=1"
   ]
  },
  {
   "cell_type": "code",
   "execution_count": 20,
   "id": "f2612403",
   "metadata": {},
   "outputs": [
    {
     "name": "stdout",
     "output_type": "stream",
     "text": [
      "2 2 2\n",
      "0 0 0\n",
      "0 0 1\n",
      "0 1 0\n",
      "0 1 1\n",
      "1 0 0\n",
      "1 0 1\n",
      "1 1 0\n",
      "1 1 1\n",
      "8\n"
     ]
    }
   ],
   "source": [
    "#6083 : [기초-종합] 빛 섞어 색 만들기(설명)(py) 해결\n",
    "\n",
    "a, b, c = map(int, input().split())\n",
    "count = 0\n",
    "\n",
    "for i in range (0,a):\n",
    "    for j in range (0,b):\n",
    "        for k in range (0,c):\n",
    "            print(i , j, k ,sep=\" \")\n",
    "            count +=1\n",
    "\n",
    "print(count)"
   ]
  },
  {
   "cell_type": "code",
   "execution_count": 26,
   "id": "1a36fd3e",
   "metadata": {},
   "outputs": [
    {
     "name": "stdout",
     "output_type": "stream",
     "text": [
      "44100 16 2 10\n",
      "1.7 MB\n"
     ]
    }
   ],
   "source": [
    "#6084 : [기초-종합] 소리 파일 저장용량 계산하기(py) 해결\n",
    "\n",
    "h, b, c, s  = map(int, input().split())\n",
    "\n",
    "\n",
    "res = h*b*c*s*1/8/1024/1024\n",
    "\n",
    "print (round(res,1),\"MB\")"
   ]
  },
  {
   "cell_type": "code",
   "execution_count": 37,
   "id": "af0a9b2b",
   "metadata": {},
   "outputs": [
    {
     "name": "stdout",
     "output_type": "stream",
     "text": [
      "100 100 4\n",
      "0.00 MB\n"
     ]
    }
   ],
   "source": [
    "#6085 : [기초-종합] 그림 파일 저장용량 계산하기(py)\n",
    "\n",
    "w, h, b = map(int, input().split())\n",
    "res = w*h*b/8/1024/1024\n",
    "\n",
    "e = round(res, 2)\n",
    "x = \"MB\"\n",
    "print(f\"{e:.2f} {x}\")"
   ]
  },
  {
   "cell_type": "code",
   "execution_count": 36,
   "id": "469e4b66",
   "metadata": {},
   "outputs": [
    {
     "name": "stdout",
     "output_type": "stream",
     "text": [
      "1\n",
      "1\n"
     ]
    }
   ],
   "source": [
    "#6086 : [기초-종합] 거기까지! 이제 그만~(설명)(py)\n",
    "\n",
    "a = int(input())\n",
    "res =0\n",
    "n = 1\n",
    "while True:\n",
    "    if res < a:\n",
    "        res +=n\n",
    "        n+=1\n",
    "    else:\n",
    "        break\n",
    "\n",
    "print(res)\n"
   ]
  },
  {
   "cell_type": "code",
   "execution_count": 50,
   "id": "3a4e9c1f",
   "metadata": {
    "scrolled": true
   },
   "outputs": [
    {
     "name": "stdout",
     "output_type": "stream",
     "text": [
      "9\n",
      "1\n",
      "2\n",
      "4\n",
      "5\n",
      "7\n",
      "8\n"
     ]
    }
   ],
   "source": [
    "#6087 : [기초-종합] 3의 배수는 통과(설명)(py) 해결\n",
    "\n",
    "a = int(input())\n",
    "\n",
    "for n in range(1, a+1):\n",
    "    if n % 3 != 0:\n",
    "        print(n)\n"
   ]
  },
  {
   "cell_type": "code",
   "execution_count": 52,
   "id": "d0c8c736",
   "metadata": {},
   "outputs": [
    {
     "name": "stdout",
     "output_type": "stream",
     "text": [
      "1 3 5\n",
      "13\n"
     ]
    }
   ],
   "source": [
    "#6088 : [기초-종합] 수 나열하기1(py) //등차\n",
    "\n",
    "a,d,n = map(int, input().split()) \n",
    "#시작 값(a), 등차의 값(d), 몇 번째 수 인지를 의미하는 정수(n)\n",
    "\n",
    "for i in range(1 , n):\n",
    "    a+=d\n",
    "    \n",
    "print (a)\n"
   ]
  },
  {
   "cell_type": "code",
   "execution_count": 53,
   "id": "5559ca32",
   "metadata": {},
   "outputs": [
    {
     "name": "stdout",
     "output_type": "stream",
     "text": [
      "2 3 7\n",
      "1458\n"
     ]
    }
   ],
   "source": [
    "#6089 : [기초-종합] 수 나열하기1(py) //등비\n",
    "\n",
    "a,d,n = map(int, input().split()) \n",
    "#시작 값(a), 등차의 값(d), 몇 번째 수 인지를 의미하는 정수(n)\n",
    "\n",
    "for i in range(1 , n):\n",
    "    a*=d\n",
    "    \n",
    "print (a)\n"
   ]
  },
  {
   "cell_type": "code",
   "execution_count": 54,
   "id": "aca2ce0b",
   "metadata": {},
   "outputs": [
    {
     "name": "stdout",
     "output_type": "stream",
     "text": [
      "1 -2 1 8\n",
      "-85\n"
     ]
    }
   ],
   "source": [
    "#6090 : [기초-종합] 수 나열하기1(py) //\n",
    "\n",
    "a,m,d,n = map(int, input().split()) \n",
    "\n",
    "\n",
    "for i in range(1 , n):\n",
    "    a= a * m + d\n",
    "    \n",
    "print (a)\n"
   ]
  },
  {
   "cell_type": "code",
   "execution_count": null,
   "id": "42cc97d5",
   "metadata": {},
   "outputs": [],
   "source": []
  }
 ],
 "metadata": {
  "kernelspec": {
   "display_name": "Python 3 (ipykernel)",
   "language": "python",
   "name": "python3"
  },
  "language_info": {
   "codemirror_mode": {
    "name": "ipython",
    "version": 3
   },
   "file_extension": ".py",
   "mimetype": "text/x-python",
   "name": "python",
   "nbconvert_exporter": "python",
   "pygments_lexer": "ipython3",
   "version": "3.9.13"
  }
 },
 "nbformat": 4,
 "nbformat_minor": 5
}
