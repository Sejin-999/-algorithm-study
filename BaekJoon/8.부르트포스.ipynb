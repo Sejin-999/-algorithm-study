{
 "cells": [
  {
   "cell_type": "code",
   "execution_count": null,
   "metadata": {},
   "outputs": [],
   "source": [
    "# 부루트 포스 : 가능한 모든 경우를 검사하는 알고리즘 .. \n",
    "#장점 : 구현이간단하다. 정확하다.. \n",
    "#단점 : 검사할 경우가 많을 경우 기하급수적으로 시간이 오래걸린다.\n",
    "# -> 검사 표본이 적은 경우만 사용"
   ]
  },
  {
   "cell_type": "code",
   "execution_count": null,
   "metadata": {},
   "outputs": [
    {
     "name": "stdout",
     "output_type": "stream",
     "text": [
      "497\n"
     ]
    }
   ],
   "source": [
    "n,m = map(int , input().split())\n",
    "card_list = input().split()\n",
    "sum =0 \n",
    "max_sum = 0\n",
    "\n",
    "for i in range(0,n):\n",
    "    for j in range(i+1 , n):\n",
    "        for k in range(j+1 , n):\n",
    "            sum = int(card_list[i])+int(card_list[j])+int(card_list[k])\n",
    "            if sum <= m and max_sum<sum: \n",
    "                max_sum = sum \n",
    "            \n",
    "            \n",
    "print(max_sum)\n"
   ]
  },
  {
   "cell_type": "code",
   "execution_count": 1,
   "metadata": {},
   "outputs": [
    {
     "name": "stdout",
     "output_type": "stream",
     "text": [
      "198\n"
     ]
    }
   ],
   "source": [
    "# n = int(input())\n",
    "\n",
    "# for i in range(1,n+1):\n",
    "#     temp_list= list(map(int, str(i)))\n",
    "#     temp_list_len = len(temp_list)\n",
    "#     print_sum = i\n",
    "#     sum = i\n",
    "#     for j in range(temp_list_len):\n",
    "#         sum += temp_list[j]\n",
    "    \n",
    "#     if sum == n :\n",
    "#         print(print_sum)\n",
    "#         break\n",
    "\n",
    "\n",
    "n = int(input())\n",
    "\n",
    "for i in range(1, n+1):\n",
    "    digits = list(map(int, str(i)))\n",
    "    digit_sum = i + sum(digits)\n",
    "\n",
    "    if digit_sum == n:\n",
    "        print(i)\n",
    "        break\n",
    "else:\n",
    "    print(0)"
   ]
  },
  {
   "cell_type": "code",
   "execution_count": 6,
   "metadata": {},
   "outputs": [
    {
     "name": "stdout",
     "output_type": "stream",
     "text": [
      "2 -1\n"
     ]
    }
   ],
   "source": [
    "# import numpy as np\n",
    "\n",
    "# a,b,c,d,e,f = map(int , input().split())\n",
    "\n",
    "# A = np.array([[a, b], [d, e]])\n",
    "# B = np.array([c,f])\n",
    "# X = np.linalg.solve(A, B)\n",
    "\n",
    "# for i in X :\n",
    "#     print (int(i) , end =\" \")\n",
    "\n",
    "a,b,c,d,e,f = map(int , input().split())\n",
    "\n",
    "for i in range(-999 , 1000):\n",
    "    for j in range(-999 , 1000):\n",
    "        if (a*i) + (b*j) == c  and (d*i) + (e*j) == f :\n",
    "            print(i,j)\n",
    "\n"
   ]
  },
  {
   "cell_type": "code",
   "execution_count": 8,
   "metadata": {},
   "outputs": [
    {
     "name": "stdout",
     "output_type": "stream",
     "text": [
      "5666\n"
     ]
    }
   ],
   "source": [
    "N = int(input())\n",
    "count = 0\n",
    "num = 666\n",
    "\n",
    "while True:\n",
    "    if '666' in str(num): \n",
    "        count += 1\n",
    "    if count == N: \n",
    "        print(num)\n",
    "        break \n",
    "    num += 1\n"
   ]
  },
  {
   "cell_type": "code",
   "execution_count": 16,
   "metadata": {},
   "outputs": [
    {
     "name": "stdout",
     "output_type": "stream",
     "text": [
      "3\n"
     ]
    }
   ],
   "source": [
    "#일케 하면 3의 배수만 있는경우 6? 같은거 5 .1 남아서 1 출력해버림;;\n",
    "\n",
    "# box_3= 3\n",
    "# box_5 = 5\n",
    "\n",
    "# n = int(input())\n",
    "\n",
    "# if n % box_3 != 0 :\n",
    "#     print(-1)\n",
    "# else : \n",
    "#     res = n // box_5 #몫\n",
    "#     res_per = n % box_5 #나머지\n",
    "\n",
    "#     res += res_per//box_3\n",
    "#     print(res)\n",
    "\n",
    "# 아래코드 .. 일단 5로나누어지는지 확인하고 , 안나눠지면 5로 나눠지지 않는경우에서 3루프로 카운트.. 하다가 5로 나눠지는 구간이 나오면 or 안나눠 지는 값이라서\n",
    "# 음수가 된경우에는 -1  , 5로 나눠지는 부분은 5// 로 몫값만 검출해서 카운트에 더하기\n",
    "\n",
    "n = int(input())\n",
    "count = 0\n",
    "\n",
    "if n % 5 == 0:\n",
    "    count = n // 5\n",
    "    print(count)\n",
    "    \n",
    "else:\n",
    "    while n % 5 != 0 and n >= 0:\n",
    "        n -= 3\n",
    "        count += 1\n",
    "        \n",
    "    if n < 0:\n",
    "        print(-1)\n",
    "    else:\n",
    "        count += n // 5\n",
    "        print(count)\n",
    "\n",
    " \n",
    " \n",
    " "
   ]
  }
 ],
 "metadata": {
  "kernelspec": {
   "display_name": "Python 3",
   "language": "python",
   "name": "python3"
  },
  "language_info": {
   "codemirror_mode": {
    "name": "ipython",
    "version": 3
   },
   "file_extension": ".py",
   "mimetype": "text/x-python",
   "name": "python",
   "nbconvert_exporter": "python",
   "pygments_lexer": "ipython3",
   "version": "3.11.1"
  },
  "orig_nbformat": 4
 },
 "nbformat": 4,
 "nbformat_minor": 2
}
