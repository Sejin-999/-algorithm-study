{
 "cells": [
  {
   "cell_type": "code",
   "execution_count": 1,
   "metadata": {},
   "outputs": [
    {
     "name": "stdout",
     "output_type": "stream",
     "text": [
      "20\n"
     ]
    }
   ],
   "source": [
    "n = int(input())\n",
    "count = 0\n",
    "for i in range(0,n):\n",
    "    for j in range(0,n):\n",
    "        if i != j :\n",
    "            count+=1\n",
    "        \n",
    "print(count)"
   ]
  },
  {
   "cell_type": "code",
   "execution_count": 7,
   "metadata": {},
   "outputs": [
    {
     "name": "stdout",
     "output_type": "stream",
     "text": [
      "8\n"
     ]
    }
   ],
   "source": [
    "n = int(input())\n",
    "count =1\n",
    "for i in range(0,n):\n",
    "        count *=2\n",
    "\n",
    "print(count)\n"
   ]
  },
  {
   "cell_type": "code",
   "execution_count": 9,
   "metadata": {},
   "outputs": [
    {
     "name": "stdout",
     "output_type": "stream",
     "text": [
      "3628800\n"
     ]
    }
   ],
   "source": [
    "n = int(input())\n",
    "count =1\n",
    "\n",
    "for i in range(1,n+1):\n",
    "        count *=i\n",
    "        \n",
    "print(count)"
   ]
  },
  {
   "cell_type": "code",
   "execution_count": 10,
   "metadata": {},
   "outputs": [
    {
     "name": "stdout",
     "output_type": "stream",
     "text": [
      "10\n"
     ]
    }
   ],
   "source": [
    "# 이항계수는 주어진 크기의 집합에서 원하는 개수만큼의 원소를 뽑아내는 조합의 가짓수를 의미합니다.\n",
    "# 이항계수는 수학적으로는 (n k)로 표현되며, 이는 n개의 원소 중에서 k개를 뽑는 경우의 수를 의미합니다. 이때, 0 <= k <= n이어야 하며, \n",
    "# 이항계수의 값은 다음과 같이 계산됩니다.\n",
    "# (n k) = n! / (k! * (n-k)!)\n",
    "\n",
    "\n",
    "n , k = map(int , input().split())\n",
    "\n",
    "#계산해야하는것 1.n! , 2 k! 3, (n-k)!\n",
    "\n",
    "nfac = 1\n",
    "kfac = 1\n",
    "n_kfac = 1\n",
    "\n",
    "for i in range(1,n+1):\n",
    "        nfac *=i\n",
    "        \n",
    "for i in range(1,k+1):\n",
    "        kfac *=i\n",
    "        \n",
    "for i in range(1,n-k+1):\n",
    "        n_kfac *=i\n",
    "        \n",
    "res = nfac // (kfac * n_kfac)\n",
    "\n",
    "print(res)\n",
    "\n",
    "\n",
    "\n",
    "\n",
    "\n"
   ]
  },
  {
   "cell_type": "code",
   "execution_count": 1,
   "metadata": {},
   "outputs": [
    {
     "name": "stdout",
     "output_type": "stream",
     "text": [
      "1\n",
      "5\n",
      "67863915\n"
     ]
    }
   ],
   "source": [
    "#결국 조합론 .. 뽑기 문제임 ..  이항계수 공식으로 걍 풀면됨\n",
    "import math\n",
    "    \n",
    "    \n",
    "t = int(input())\n",
    "for _ in range(t):\n",
    "     n, m = map(int, input().split())\n",
    "     value= math.factorial(m) // (math.factorial(n) * math.factorial(m - n))\n",
    "     print(value)\n"
   ]
  }
 ],
 "metadata": {
  "kernelspec": {
   "display_name": "Python 3",
   "language": "python",
   "name": "python3"
  },
  "language_info": {
   "codemirror_mode": {
    "name": "ipython",
    "version": 3
   },
   "file_extension": ".py",
   "mimetype": "text/x-python",
   "name": "python",
   "nbconvert_exporter": "python",
   "pygments_lexer": "ipython3",
   "version": "3.11.1"
  },
  "orig_nbformat": 4
 },
 "nbformat": 4,
 "nbformat_minor": 2
}
