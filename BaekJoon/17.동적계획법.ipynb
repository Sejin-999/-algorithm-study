{
 "cells": [
  {
   "cell_type": "code",
   "execution_count": 8,
   "metadata": {},
   "outputs": [
    {
     "name": "stdout",
     "output_type": "stream",
     "text": [
      "5\n",
      "3\n"
     ]
    }
   ],
   "source": [
    "def fin(n) :\n",
    "    if n==1 or n == 2:\n",
    "        return 1\n",
    "    else:\n",
    "        return fin(n-1) + fin(n-2)   \n",
    "\n",
    "def dpfin(n):\n",
    "    f = [1,1]\n",
    "    count = 0\n",
    "    for i in range(2 , n):\n",
    "        count +=1\n",
    "        f.append(f[i-1]+ f[i-2])\n",
    "    return count\n",
    "\n",
    "n = int(input())\n",
    "\n",
    "print(fin(n))\n",
    "print(dpfin(n))"
   ]
  },
  {
   "cell_type": "code",
   "execution_count": 13,
   "metadata": {},
   "outputs": [
    {
     "name": "stdout",
     "output_type": "stream",
     "text": [
      "w(1, 1, 1) = 2\n",
      "w(2, 2, 2) = 4\n",
      "w(10, 4, 6) = 523\n",
      "w(50, 50, 50) = 1048576\n",
      "w(-1, 7, 18) = 1\n"
     ]
    }
   ],
   "source": [
    "def funW(a,b,c):\n",
    "    if a <=0 or b<= 0 or c<= 0 :\n",
    "        return 1\n",
    "    if a>20 or b>20 or c>20 :\n",
    "        return funW(20 , 20 , 20)\n",
    "    if dp[a][b][c] :\n",
    "        return dp[a][b][c]\n",
    "    if a<b and b<c :\n",
    "        dp[a][b][c] = funW(a , b, c-1) + funW(a,b-1,c-1) - funW(a,b-1,c)\n",
    "    else :\n",
    "        dp[a][b][c] = funW(a-1, b, c) + funW(a-1, b-1, c) + funW(a-1, b, c-1) - funW(a-1, b-1, c-1)\n",
    "    \n",
    "    return dp[a][b][c]\n",
    "        \n",
    "dp = [[[0]*(21) for _ in range(21)] for _ in range(21)]\n",
    "    \n",
    "while True:\n",
    "    a,b,c = map(int , input().split())\n",
    "    if a== -1 and b ==-1 and c == -1 :\n",
    "        #   종료코드\n",
    "        break\n",
    "    else:\n",
    "        print(\"w({}, {}, {}) = {}\".format(a,b,c,funW(a,b,c)))\n"
   ]
  },
  {
   "cell_type": "code",
   "execution_count": 18,
   "metadata": {},
   "outputs": [
    {
     "name": "stdout",
     "output_type": "stream",
     "text": [
      "5\n"
     ]
    }
   ],
   "source": [
    "# #1904\n",
    "# def w(n):\n",
    "#     dp = [0]*(n+1)\n",
    "#     dp[1] = 1\n",
    "#     dp[2] = 2\n",
    "#     for i in range(3,n+1):\n",
    "#         dp[i] = (dp[i-1]+dp[i-2])%15746\n",
    "#     return dp[n]\n",
    "\n",
    "# n = int(input())\n",
    "# print(w(n))\n",
    "\n",
    "\n",
    "#메모리 초과에 의한 에러 발생\n",
    "\n",
    "def w(n):\n",
    "    if n == 1:\n",
    "        return 1\n",
    "    elif n == 2:\n",
    "        return 2\n",
    "    else:\n",
    "        a, b = 1, 2\n",
    "        for i in range(3, n+1):\n",
    "            c = (a + b) % 15746\n",
    "            a = b\n",
    "            b = c\n",
    "        return b\n",
    "\n",
    "n = int(input())\n",
    "print(w(n))\n"
   ]
  },
  {
   "cell_type": "code",
   "execution_count": 19,
   "metadata": {},
   "outputs": [
    {
     "name": "stdout",
     "output_type": "stream",
     "text": [
      "3\n",
      "16\n"
     ]
    }
   ],
   "source": [
    "def w(n):\n",
    "    dp = [0 for i in range(101)]\n",
    "    dp[1] = 1\n",
    "    dp[2] = 1\n",
    "    dp[3] = 1\n",
    "    \n",
    "    for i in range(0, 98):\n",
    "        dp[i+3] = dp[i]+ dp[i+1]\n",
    "        \n",
    "    return dp[n]\n",
    "        \n",
    "n = int(input())\n",
    "for i in range(0,n):\n",
    "    n2 = int(input())\n",
    "    print(w(n2))"
   ]
  }
 ],
 "metadata": {
  "kernelspec": {
   "display_name": "Python 3",
   "language": "python",
   "name": "python3"
  },
  "language_info": {
   "codemirror_mode": {
    "name": "ipython",
    "version": 3
   },
   "file_extension": ".py",
   "mimetype": "text/x-python",
   "name": "python",
   "nbconvert_exporter": "python",
   "pygments_lexer": "ipython3",
   "version": "3.11.1"
  },
  "orig_nbformat": 4
 },
 "nbformat": 4,
 "nbformat_minor": 2
}
