{
 "cells": [
  {
   "cell_type": "code",
   "execution_count": 1,
   "id": "f214b47c",
   "metadata": {},
   "outputs": [
    {
     "name": "stdout",
     "output_type": "stream",
     "text": [
      "2\n",
      "2 * 1 = 2\n",
      "2 * 2 = 4\n",
      "2 * 3 = 6\n",
      "2 * 4 = 8\n",
      "2 * 5 = 10\n",
      "2 * 6 = 12\n",
      "2 * 7 = 14\n",
      "2 * 8 = 16\n",
      "2 * 9 = 18\n"
     ]
    }
   ],
   "source": [
    "a = int(input())\n",
    "flag = 1\n",
    "while flag<10 :\n",
    "    print(a , \"*\" , flag ,\"=\",a*flag)\n",
    "    flag+=1"
   ]
  },
  {
   "cell_type": "code",
   "execution_count": 2,
   "id": "d2c103cd",
   "metadata": {},
   "outputs": [
    {
     "name": "stdout",
     "output_type": "stream",
     "text": [
      "5\n",
      "1 1\n",
      "2\n",
      "2 3\n",
      "5\n",
      "3 4\n",
      "7\n",
      "9 8\n",
      "17\n",
      "5 2\n",
      "7\n"
     ]
    }
   ],
   "source": [
    "testCase = int(input())\n",
    "while testCase != 0:\n",
    "    a,b = map(int ,input().split())\n",
    "    print(a+b)\n",
    "    testCase-=1"
   ]
  },
  {
   "cell_type": "code",
   "execution_count": 6,
   "id": "e21ddd7d",
   "metadata": {},
   "outputs": [
    {
     "name": "stdout",
     "output_type": "stream",
     "text": [
      "3\n",
      "1\n",
      "3\n",
      "6\n",
      "6\n"
     ]
    }
   ],
   "source": [
    "n = int(input())\n",
    "res = 0\n",
    "flag = 1\n",
    "while flag <= n:\n",
    "    res +=flag\n",
    "    flag+=1\n",
    "print(res)"
   ]
  },
  {
   "cell_type": "code",
   "execution_count": 8,
   "id": "d0a3afa5",
   "metadata": {},
   "outputs": [
    {
     "name": "stdout",
     "output_type": "stream",
     "text": [
      "260000\n",
      "4\n",
      "20000 5\n",
      "30000 2\n",
      "10000 6\n",
      "5000 8\n",
      "Yes\n"
     ]
    }
   ],
   "source": [
    "total_price = int(input())\n",
    "temp_total = 0\n",
    "n = int(input())\n",
    "\n",
    "while n>0:\n",
    "    price,amount = map(int ,input().split())\n",
    "    temp_total += price*amount\n",
    "    n-=1\n",
    "    \n",
    "if total_price == temp_total : \n",
    "    print(\"Yes\")\n",
    "else:\n",
    "    print(\"No\")"
   ]
  },
  {
   "cell_type": "code",
   "execution_count": 11,
   "id": "f6c23be1",
   "metadata": {},
   "outputs": [
    {
     "name": "stdout",
     "output_type": "stream",
     "text": [
      "20\n",
      "long long long long long int\n"
     ]
    }
   ],
   "source": [
    "N = int(input())\n",
    "long_N = N//4\n",
    "\n",
    "while long_N > 0 :\n",
    "    print(\"long\" , end=\" \")\n",
    "    long_N -=1\n",
    "\n",
    "print(\"int\")"
   ]
  },
  {
   "cell_type": "code",
   "execution_count": null,
   "id": "515fb4e2",
   "metadata": {},
   "outputs": [],
   "source": []
  },
  {
   "cell_type": "code",
   "execution_count": 17,
   "id": "934bcb7d",
   "metadata": {},
   "outputs": [
    {
     "name": "stdout",
     "output_type": "stream",
     "text": [
      "\n"
     ]
    }
   ],
   "source": [
    "# import sys\n",
    "\n",
    "# a = sys.stdin.readline().rstrip()\n",
    "# print (a)\n",
    "\n",
    "N = int(input())\n",
    "\n",
    "while N >0:\n",
    "    a,b = map(int ,input().split())\n",
    "    print (a+b)\n",
    "    N-=1\n",
    "\n",
    "\n"
   ]
  },
  {
   "cell_type": "code",
   "execution_count": 20,
   "id": "955ace63",
   "metadata": {},
   "outputs": [
    {
     "name": "stdout",
     "output_type": "stream",
     "text": [
      "2 \n",
      "1 1\n",
      "Case #1: 2\n",
      "2 2\n",
      "Case #2: 4\n"
     ]
    }
   ],
   "source": [
    "N = int(input())\n",
    "flag =1\n",
    "while N >0:\n",
    "    a,b = map(int ,input().split())\n",
    "    print (\"Case #\",flag,\": \",a+b , sep=\"\")\n",
    "    N-=1\n",
    "    flag +=1\n"
   ]
  },
  {
   "cell_type": "code",
   "execution_count": 22,
   "id": "7f8f2aa1",
   "metadata": {},
   "outputs": [
    {
     "name": "stdout",
     "output_type": "stream",
     "text": [
      "2\n",
      "1 1\n",
      "Case #1: 1 + 1 = 2\n",
      "2 2\n",
      "Case #2: 2 + 2 = 4\n"
     ]
    }
   ],
   "source": [
    "N = int(input())\n",
    "flag =1\n",
    "while N >0:\n",
    "    a,b = map(int ,input().split())\n",
    "    print(f\"Case #{flag}: {a} + {b} = {a+b}\")\n",
    "    N-=1\n",
    "    flag +=1"
   ]
  },
  {
   "cell_type": "code",
   "execution_count": 26,
   "id": "64165595",
   "metadata": {},
   "outputs": [
    {
     "name": "stdout",
     "output_type": "stream",
     "text": [
      "5\n",
      "    *\n",
      "   **\n",
      "  ***\n",
      " ****\n",
      "*****\n"
     ]
    }
   ],
   "source": [
    "N = int(input())\n",
    "flag = 1\n",
    "while N > 0:\n",
    "    for j in range(N-1):\n",
    "        print(\" \", end=\"\")\n",
    "    for i in range(flag):\n",
    "        print(\"*\", end=\"\")\n",
    "    print()\n",
    "    N -= 1\n",
    "    flag += 1"
   ]
  },
  {
   "cell_type": "code",
   "execution_count": 27,
   "id": "f37be738",
   "metadata": {},
   "outputs": [
    {
     "name": "stdout",
     "output_type": "stream",
     "text": [
      "1 1\n",
      "2\n",
      "3 3\n",
      "6\n",
      "6 6\n",
      "12\n",
      "0 0\n"
     ]
    }
   ],
   "source": [
    "while True:\n",
    "    a,b = map(int ,input().split())\n",
    "    if a==0 and b==0:\n",
    "        break\n",
    "    else:\n",
    "        print(a+b)"
   ]
  },
  {
   "cell_type": "code",
   "execution_count": null,
   "id": "74a27161",
   "metadata": {},
   "outputs": [
    {
     "name": "stdout",
     "output_type": "stream",
     "text": [
      "1 1\n",
      "2\n",
      "3 3\n",
      "6\n",
      "5 1\n",
      "6\n"
     ]
    }
   ],
   "source": [
    "while True:\n",
    "    try:\n",
    "        a, b = map(int, input().split())\n",
    "        print(a + b)\n",
    "    except EOFError:\n",
    "        break\n"
   ]
  },
  {
   "cell_type": "code",
   "execution_count": null,
   "id": "669d6999",
   "metadata": {},
   "outputs": [],
   "source": []
  }
 ],
 "metadata": {
  "kernelspec": {
   "display_name": "Python 3 (ipykernel)",
   "language": "python",
   "name": "python3"
  },
  "language_info": {
   "codemirror_mode": {
    "name": "ipython",
    "version": 3
   },
   "file_extension": ".py",
   "mimetype": "text/x-python",
   "name": "python",
   "nbconvert_exporter": "python",
   "pygments_lexer": "ipython3",
   "version": "3.9.13"
  }
 },
 "nbformat": 4,
 "nbformat_minor": 5
}
