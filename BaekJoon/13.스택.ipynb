{
 "cells": [
  {
   "cell_type": "code",
   "execution_count": 2,
   "metadata": {},
   "outputs": [
    {
     "ename": "ValueError",
     "evalue": "invalid literal for int() with base 10: 'push'",
     "output_type": "error",
     "traceback": [
      "\u001b[0;31m---------------------------------------------------------------------------\u001b[0m",
      "\u001b[0;31mValueError\u001b[0m                                Traceback (most recent call last)",
      "Cell \u001b[0;32mIn[2], line 10\u001b[0m\n\u001b[1;32m      8\u001b[0m \u001b[39m# 입력값이 2개인 경우\u001b[39;00m\n\u001b[1;32m      9\u001b[0m \u001b[39mif\u001b[39;00m \u001b[39mlen\u001b[39m(input_list) \u001b[39m==\u001b[39m \u001b[39m2\u001b[39m:\n\u001b[0;32m---> 10\u001b[0m     command, num \u001b[39m=\u001b[39m \u001b[39mmap\u001b[39m(\u001b[39mint\u001b[39m, input_list)\n\u001b[1;32m     11\u001b[0m     \u001b[39m# push\u001b[39;00m\n\u001b[1;32m     12\u001b[0m     stack\u001b[39m.\u001b[39mappend(num)\n",
      "\u001b[0;31mValueError\u001b[0m: invalid literal for int() with base 10: 'push'"
     ]
    }
   ],
   "source": [
    "n = int(input())\n",
    "stack = []\n",
    "\n",
    "for _ in range(0,n):\n",
    "    \n",
    "    input_list = input().split()\n",
    "\n",
    "    # 입력값이 2개인 경우\n",
    "    if len(input_list) == 2:\n",
    "        command, num \n",
    "        # push\n",
    "        stack.append(num)\n",
    "    # 입력값이 1개인 경우\n",
    "    elif len(input_list) == 1:\n",
    "        command = int(input_list[0])\n",
    "        \n",
    "    print(stack)"
   ]
  }
 ],
 "metadata": {
  "kernelspec": {
   "display_name": "Python 3",
   "language": "python",
   "name": "python3"
  },
  "language_info": {
   "codemirror_mode": {
    "name": "ipython",
    "version": 3
   },
   "file_extension": ".py",
   "mimetype": "text/x-python",
   "name": "python",
   "nbconvert_exporter": "python",
   "pygments_lexer": "ipython3",
   "version": "3.11.1"
  },
  "orig_nbformat": 4
 },
 "nbformat": 4,
 "nbformat_minor": 2
}
