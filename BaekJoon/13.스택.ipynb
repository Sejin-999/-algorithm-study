{
 "cells": [
  {
   "cell_type": "code",
   "execution_count": 16,
   "metadata": {},
   "outputs": [
    {
     "name": "stdout",
     "output_type": "stream",
     "text": [
      "-1\n",
      "-1\n",
      "123\n",
      "123\n",
      "-1\n",
      "-1\n"
     ]
    }
   ],
   "source": [
    "import sys\n",
    "# n = int(input())\n",
    "n = int(sys.stdin.readline())\n",
    "stack = []\n",
    "\n",
    "for _ in range(0,n):\n",
    "    \n",
    "    # input_list = input().split()\n",
    "    input_list = sys.stdin.readline().split()\n",
    "    \n",
    "    # 입력값이 2개인 경우\n",
    "    if len(input_list) == 2:\n",
    "        command = input_list[0]\n",
    "        num = int(input_list[1])\n",
    "        # push\n",
    "        if command == \"push\":\n",
    "            stack.append(num)\n",
    "        \n",
    "    # 입력값이 1개인 경우\n",
    "    elif len(input_list) == 1:\n",
    "        command = input_list[0]\n",
    "        #pop  스택에서 가장 위에 있는 정수를 빼고, 그 수를 출력한다. 만약 스택에 들어있는 정수가 없는 경우에는 -1을 출력한다.\n",
    "        if command == \"pop\" : \n",
    "            if len(stack) == 0 :\n",
    "                #없는경우\n",
    "                print(-1)\n",
    "            else:\n",
    "                print(stack[len(stack)-1])\n",
    "                stack.pop()\n",
    "        #size\n",
    "        elif command == \"size\":\n",
    "            print(len(stack))\n",
    "        #empty\n",
    "        elif command == \"empty\":\n",
    "            if len(stack) == 0:\n",
    "                print(1) #stack empty\n",
    "            else:\n",
    "                print(0) #stack not empty\n",
    "        #top\n",
    "        elif command == \"top\":\n",
    "            if len(stack) == 0 :\n",
    "                print(-1)\n",
    "            else:\n",
    "                print(stack[len(stack)-1])"
   ]
  },
  {
   "cell_type": "code",
   "execution_count": 17,
   "metadata": {},
   "outputs": [
    {
     "name": "stdout",
     "output_type": "stream",
     "text": [
      "7\n"
     ]
    }
   ],
   "source": [
    "import sys\n",
    "\n",
    "# n = int(input())\n",
    "n = int(sys.stdin.readline())\n",
    "stack = []\n",
    "\n",
    "for i in range(0,n):\n",
    "    # count = int(input())\n",
    "    count = int(sys.stdin.readline())\n",
    "    if count == 0 :\n",
    "        stack.pop()\n",
    "    else:\n",
    "        stack.append(count)\n",
    "        \n",
    "sum = 0    \n",
    "for i in stack:\n",
    "    sum += i\n",
    "    \n",
    "print(sum)\n",
    "    "
   ]
  },
  {
   "cell_type": "code",
   "execution_count": 26,
   "metadata": {},
   "outputs": [
    {
     "name": "stdout",
     "output_type": "stream",
     "text": [
      "No\n"
     ]
    }
   ],
   "source": [
    "n = int(input())\n",
    "stack=[]\n",
    "temp_value=1\n",
    "temp_stack = []\n",
    "print_stack = []\n",
    "check = True\n",
    "\n",
    "for _ in range(0,n):\n",
    "    value = int(input())\n",
    "    stack.append(value)\n",
    "    \n",
    "    for i in range(temp_value,value+1):\n",
    "        temp_stack.append(i)\n",
    "        print_stack.append(\"+\")\n",
    "    temp_value =value+1\n",
    "    \n",
    "    if temp_stack[-1] == value:\n",
    "        temp_stack.pop()\n",
    "        print_stack.append(\"-\")\n",
    "    else:\n",
    "        check = False\n",
    "        \n",
    "        \n",
    "if check == True:\n",
    "    print(print_stack)\n",
    "else :\n",
    "    print(\"No\")"
   ]
  }
 ],
 "metadata": {
  "kernelspec": {
   "display_name": "Python 3",
   "language": "python",
   "name": "python3"
  },
  "language_info": {
   "codemirror_mode": {
    "name": "ipython",
    "version": 3
   },
   "file_extension": ".py",
   "mimetype": "text/x-python",
   "name": "python",
   "nbconvert_exporter": "python",
   "pygments_lexer": "ipython3",
   "version": "3.11.1"
  },
  "orig_nbformat": 4
 },
 "nbformat": 4,
 "nbformat_minor": 2
}
