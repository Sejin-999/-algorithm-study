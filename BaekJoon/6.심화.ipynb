{
 "cells": [
  {
   "cell_type": "code",
   "execution_count": 3,
   "metadata": {},
   "outputs": [
    {
     "name": "stdout",
     "output_type": "stream",
     "text": [
      "         ,r'\"7\n",
      "r`-_   ,'  ,/\n",
      "\\. \". L_r'\n",
      "   `~\\/   \n",
      "      |    \n",
      "      |    \n"
     ]
    }
   ],
   "source": [
    "print('         ,r\\'\"7')\n",
    "print('r`-_   ,\\'  ,/')\n",
    "print('\\\\. \". L_r\\'')\n",
    "print('   `~\\\\/   ')\n",
    "print('      |    ')\n",
    "print('      |    ')"
   ]
  },
  {
   "cell_type": "code",
   "execution_count": 14,
   "metadata": {},
   "outputs": [
    {
     "name": "stdout",
     "output_type": "stream",
     "text": [
      "0 1 2 2 2 7\n",
      "1 0 0 0 0 1 "
     ]
    }
   ],
   "source": [
    "k,q,l,v,n,p = map(int , input().split())\n",
    "\n",
    "# print(k,q,l,v,n,p)\n",
    "req_list = [1,1,2,2,2,8]\n",
    "rev_list = [k,q,l,v,n,p]\n",
    "\n",
    "for i in range(len(req_list)):\n",
    "    rev_list[i] = req_list[i]-rev_list[i]\n",
    "\n",
    "for i in rev_list:\n",
    "    print(i , end= \" \")"
   ]
  },
  {
   "cell_type": "code",
   "execution_count": 43,
   "metadata": {},
   "outputs": [
    {
     "name": "stdout",
     "output_type": "stream",
     "text": [
      "    *    \n",
      "   ***   \n",
      "  *****  \n",
      " ******* \n",
      "*********\n",
      " ******* \n",
      "  *****  \n",
      "   ***   \n",
      "    *    \n"
     ]
    }
   ],
   "source": [
    "def balankMaker(size):\n",
    "    for _ in range(size):\n",
    "        print(\" \", end=\"\")\n",
    "        \n",
    "def starMaker(count):\n",
    "    for _ in range(count):\n",
    "        print(\"*\", end=\"\")\n",
    "        \n",
    "n = int(input())\n",
    "\n",
    "count = 1\n",
    "nCount = n\n",
    "\n",
    "for i in range(n * 2 - 1):\n",
    "    if i < n - 1:\n",
    "        balankMaker(nCount - 1)\n",
    "        starMaker(count)\n",
    "        balankMaker(nCount - 1)\n",
    "        print()\n",
    "        nCount -= 1\n",
    "        count += 2\n",
    "    else:\n",
    "        balankMaker(nCount - 1)\n",
    "        starMaker(count)\n",
    "        balankMaker(nCount - 1)\n",
    "        print()\n",
    "        nCount += 1\n",
    "        count -= 2\n"
   ]
  },
  {
   "cell_type": "code",
   "execution_count": 44,
   "metadata": {},
   "outputs": [
    {
     "name": "stdout",
     "output_type": "stream",
     "text": [
      "    *\n",
      "   ***\n",
      "  *****\n",
      " *******\n",
      "*********\n",
      " *******\n",
      "  *****\n",
      "   ***\n",
      "    *\n"
     ]
    }
   ],
   "source": [
    "n = int(input())\n",
    "\n",
    "for i in range(1, 2*n):\n",
    "    if i <= n:\n",
    "        print(\" \"*(n-i), \"*\"*(2*i-1), sep=\"\")\n",
    "    else:\n",
    "        print(\" \"*(i-n), \"*\"*(4*n-2*i-1), sep=\"\")\n"
   ]
  },
  {
   "cell_type": "code",
   "execution_count": 27,
   "metadata": {},
   "outputs": [
    {
     "name": "stdout",
     "output_type": "stream",
     "text": [
      "4 3 2 6 5 4 7 8 9 10 "
     ]
    }
   ],
   "source": [
    "n, m = map(int , input().split())\n",
    "\n",
    "bucket_list = []\n",
    "\n",
    "for i in range(0, n):\n",
    "    bucket_list.append(i+1)\n",
    "\n",
    "while m > 0 :\n",
    "    begin_list = []\n",
    "    end_list = []\n",
    "    change_list = []\n",
    "\n",
    "    i,j,k = map(int , input().split())\n",
    "\n",
    "    for begin in range(i, k):\n",
    "        # print(\"begin\" , begin)\n",
    "        begin_list.append(begin)\n",
    "\n",
    "    for end in range(k, j+1):\n",
    "        # print(\"end\" , end)\n",
    "        end_list.append(end)\n",
    "\n",
    "    change_list = end_list+begin_list\n",
    "    change_count = len(change_list)-1\n",
    "\n",
    "    for q in range(i-1,j):\n",
    "        bucket_list[q] = change_list[change_count]\n",
    "        change_count -= 1\n",
    "\n",
    "    m -= 1\n",
    "\n",
    "for i in bucket_list:\n",
    "    print ( i , end=\" \")\n"
   ]
  },
  {
   "cell_type": "code",
   "execution_count": null,
   "metadata": {},
   "outputs": [],
   "source": [
    "n, m = map(int, input().split())\n",
    "\n",
    "bucket_list = [i + 1 for i in range(n)]  # 바구니 리스트 생성\n",
    "\n",
    "for _ in range(m):\n",
    "    i, j, k = map(int, input().split())\n",
    "    # i부터 j까지 범위에서 k번째 바구니를 기준으로 회전\n",
    "\n",
    "    # 회전할 범위를 구함\n",
    "    rotate_range = bucket_list[i - 1:j]\n",
    "\n",
    "    # 기준이 되는 바구니를 기준으로 회전\n",
    "    mid_idx = i - 1 + k - i\n",
    "    rotated_range = bucket_list[mid_idx:j] + bucket_list[i - 1:mid_idx]\n",
    "\n",
    "    # 회전한 바구니들을 기존 리스트에 업데이트\n",
    "    for idx in range(i - 1, j):\n",
    "        bucket_list[idx] = rotated_range[idx - i + 1]\n",
    "\n",
    "print(*bucket_list)  # 리스트 요소 출력\n"
   ]
  }
 ],
 "metadata": {
  "kernelspec": {
   "display_name": "Python 3",
   "language": "python",
   "name": "python3"
  },
  "language_info": {
   "codemirror_mode": {
    "name": "ipython",
    "version": 3
   },
   "file_extension": ".py",
   "mimetype": "text/x-python",
   "name": "python",
   "nbconvert_exporter": "python",
   "pygments_lexer": "ipython3",
   "version": "3.11.1"
  },
  "orig_nbformat": 4
 },
 "nbformat": 4,
 "nbformat_minor": 2
}
