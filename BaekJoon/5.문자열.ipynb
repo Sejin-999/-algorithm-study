{
 "cells": [
  {
   "cell_type": "code",
   "execution_count": 7,
   "metadata": {},
   "outputs": [
    {
     "ename": "ValueError",
     "evalue": "invalid literal for int() with base 10: 'scac'",
     "output_type": "error",
     "traceback": [
      "\u001b[0;31m---------------------------------------------------------------------------\u001b[0m",
      "\u001b[0;31mValueError\u001b[0m                                Traceback (most recent call last)",
      "Cell \u001b[0;32mIn[7], line 2\u001b[0m\n\u001b[1;32m      1\u001b[0m s \u001b[39m=\u001b[39m \u001b[39minput\u001b[39m()\n\u001b[0;32m----> 2\u001b[0m i \u001b[39m=\u001b[39m \u001b[39mint\u001b[39;49m(\u001b[39minput\u001b[39;49m())\n\u001b[1;32m      3\u001b[0m count \u001b[39m=\u001b[39m\u001b[39m0\u001b[39m \n\u001b[1;32m      4\u001b[0m \u001b[39mfor\u001b[39;00m a \u001b[39min\u001b[39;00m \u001b[39mlist\u001b[39m(s):\n",
      "\u001b[0;31mValueError\u001b[0m: invalid literal for int() with base 10: 'scac'"
     ]
    }
   ],
   "source": [
    "s = input()\n",
    "i = int(input())\n",
    "count =0 \n",
    "for a in list(s):\n",
    "    count+=1\n",
    "    if count == i :\n",
    "        print(a)"
   ]
  },
  {
   "cell_type": "code",
   "execution_count": null,
   "metadata": {},
   "outputs": [
    {
     "name": "stdout",
     "output_type": "stream",
     "text": [
      "8\n"
     ]
    }
   ],
   "source": [
    "s = input()\n",
    "\n",
    "print(len(s))"
   ]
  },
  {
   "cell_type": "code",
   "execution_count": null,
   "metadata": {},
   "outputs": [
    {
     "name": "stdout",
     "output_type": "stream",
     "text": [
      "wr\n",
      "as\n",
      "xs"
     ]
    }
   ],
   "source": [
    "test_case = int(input())\n",
    "print_list = []\n",
    "while test_case >0 :\n",
    "    casea = list(input())\n",
    "    print_list.append(casea[0])\n",
    "    print_list.append(casea[len(casea)-1])\n",
    "    test_case -=1\n",
    "    \n",
    "count = 0  # count 초기값을 1로 설정\n",
    "\n",
    "for idx in print_list:\n",
    "    if count != 2:\n",
    "        print(idx, end=\"\")\n",
    "        count += 1\n",
    "    else:\n",
    "        print()\n",
    "        print(idx, end=\"\")\n",
    "        count = 1"
   ]
  },
  {
   "cell_type": "code",
   "execution_count": null,
   "metadata": {},
   "outputs": [
    {
     "name": "stdout",
     "output_type": "stream",
     "text": [
      "97\n"
     ]
    }
   ],
   "source": [
    "a = input()\n",
    "print(ord(a))"
   ]
  },
  {
   "cell_type": "code",
   "execution_count": 6,
   "metadata": {},
   "outputs": [
    {
     "name": "stdout",
     "output_type": "stream",
     "text": [
      "3 -1 -1 1 -1 -1 -1 -1 -1 -1 -1 -1 -1 -1 -1 -1 -1 -1 0 -1 -1 2 -1 -1 -1 -1 \n"
     ]
    }
   ],
   "source": [
    "word = input() \n",
    "\n",
    "n = [-1] * 26 \n",
    "text_list = \"abcdefghijklmnopqrstuvwxyz\"  \n",
    "\n",
    "for i in range(len(word)):\n",
    "    char = word[i]\n",
    "    idx = text_list.index(char)  \n",
    "    if n[idx] == -1:  \n",
    "        n[idx] = i\n",
    "       \n",
    "for i in n:\n",
    "    print(i, end=\" \")  \n",
    "print()\n"
   ]
  },
  {
   "cell_type": "code",
   "execution_count": 3,
   "metadata": {},
   "outputs": [
    {
     "ename": "ValueError",
     "evalue": "invalid literal for int() with base 10: 'The last character is a blank '",
     "output_type": "error",
     "traceback": [
      "\u001b[0;31m---------------------------------------------------------------------------\u001b[0m",
      "\u001b[0;31mValueError\u001b[0m                                Traceback (most recent call last)",
      "Cell \u001b[0;32mIn[3], line 1\u001b[0m\n\u001b[0;32m----> 1\u001b[0m n \u001b[39m=\u001b[39m \u001b[39mint\u001b[39;49m(\u001b[39minput\u001b[39;49m())\n\u001b[1;32m      2\u001b[0m print_list \u001b[39m=\u001b[39m []\n\u001b[1;32m      4\u001b[0m \u001b[39mwhile\u001b[39;00m n\u001b[39m>\u001b[39m\u001b[39m0\u001b[39m:\n",
      "\u001b[0;31mValueError\u001b[0m: invalid literal for int() with base 10: 'The last character is a blank '"
     ]
    }
   ],
   "source": [
    "n = int(input())\n",
    "print_list = []\n",
    "\n",
    "while n>0:\n",
    "    nCount, word = input().split()\n",
    "    nCount = int(nCount)\n",
    "    # print(nCount,word)\n",
    "    \n",
    "    for i in list(word):\n",
    "        # print(i)\n",
    "        for _ in range(nCount):\n",
    "            print_list.append(i)\n",
    "            \n",
    "    print_list.append(\"\")\n",
    "    n -=1\n",
    "    \n",
    "# print(print_list)\n",
    "\n",
    "\n",
    "for i in print_list:\n",
    "    if i == \"\" :\n",
    "        print(\"\")\n",
    "    else :\n",
    "        print(i , end=\"\")\n"
   ]
  },
  {
   "cell_type": "code",
   "execution_count": 2,
   "metadata": {},
   "outputs": [
    {
     "name": "stdout",
     "output_type": "stream",
     "text": [
      "6\n"
     ]
    }
   ],
   "source": [
    "text = input()\n",
    "resText = []\n",
    "tempText = []\n",
    "text_list = \"abcdefghijklmnopqrstuvwxyzABCDEFGHIJKLMNOPQRSTUVWXYZ\"\n",
    "count = 0\n",
    "\n",
    "for i in text:\n",
    "    if i not in text_list or count + 1 == len(text):\n",
    "        if tempText != []:\n",
    "            resText.append(\"\".join(tempText))  # 리스트 요소들을 문자열로 합쳐서 resText에 추가\n",
    "            tempText = []\n",
    "    else:\n",
    "        tempText.append(i)\n",
    "\n",
    "    count += 1\n",
    "\n",
    "print(len(resText))\n"
   ]
  },
  {
   "cell_type": "code",
   "execution_count": 10,
   "metadata": {},
   "outputs": [
    {
     "name": "stdout",
     "output_type": "stream",
     "text": [
      "['The', 'last', 'character', 'is', 'a', 'blank']\n",
      "6\n"
     ]
    }
   ],
   "source": [
    "text = input()\n",
    "resText = []\n",
    "tempText = []\n",
    "count = 0\n",
    "\n",
    "for i in text:\n",
    "    if i != ' ' or count + 1 == len(text):\n",
    "        if tempText != []:\n",
    "            resText.append(\"\".join(tempText))\n",
    "            tempText = []\n",
    "    else:\n",
    "        tempText.append(i)\n",
    "\n",
    "    count += 1\n",
    "    \n",
    "if tempText != []:\n",
    "    resText.append(\"\".join(tempText))\n",
    "\n",
    "# print(resText)\n",
    "print(len(resText))\n"
   ]
  },
  {
   "cell_type": "code",
   "execution_count": null,
   "metadata": {},
   "outputs": [],
   "source": [
    "text = input().strip()  # 입력 문자열 받기 및 좌우 공백 제거\n",
    "word_count = 0  # 단어 개수 초기화\n",
    "\n",
    "# 입력 문자열이 공백인 경우 예외 처리\n",
    "if len(text) > 0:\n",
    "    word_count = 1\n",
    "\n",
    "# 입력 문자열을 순회하면서 단어 개수 세기\n",
    "for i in range(1, len(text)):\n",
    "    if text[i] == ' ' and text[i - 1] != ' ':\n",
    "        word_count += 1\n",
    "\n",
    "print(word_count)\n"
   ]
  },
  {
   "cell_type": "code",
   "execution_count": 2,
   "metadata": {},
   "outputs": [
    {
     "name": "stdout",
     "output_type": "stream",
     "text": [
      "['3', '2', '1'] ['7', '3', '5']\n",
      "735\n"
     ]
    }
   ],
   "source": [
    "x,y = map(list,input().split())\n",
    "count =0\n",
    "temp = 0\n",
    "\n",
    "for i in x :\n",
    "    if count == 0 :\n",
    "        temp = i\n",
    "    elif count == 2 :\n",
    "        x[0] = i\n",
    "        x[2] = temp\n",
    "    count +=1\n",
    "    \n",
    "count = 0 \n",
    "\n",
    "for i in y :\n",
    "    if count == 0 :\n",
    "        temp = i\n",
    "    elif count == 2 :\n",
    "        y[0] = i\n",
    "        y[2] = temp\n",
    "    count +=1\n",
    "\n",
    "num = ''.join(x)\n",
    "num_x = int(num)\n",
    "\n",
    "num = ''.join(y)\n",
    "num_y = int(num)\n",
    "\n",
    "\n",
    "if num_x > num_y :\n",
    "    print(num_x)\n",
    "else :\n",
    "    print(num_y)\n"
   ]
  },
  {
   "cell_type": "code",
   "execution_count": null,
   "metadata": {},
   "outputs": [],
   "source": [
    "x, y = input().split()\n",
    "x = x[2] + x[1] + x[0] # x 리스트의 첫번째와 세번째 원소 위치를 바꿈\n",
    "y = y[2] + y[1] + y[0] # y 리스트의 첫번째와 세번째 원소 위치를 바꿈\n",
    "num_x = int(x)\n",
    "num_y = int(y)\n",
    "\n",
    "if num_x > num_y:\n",
    "    print(num_x)\n",
    "else:\n",
    "    print(num_y)\n"
   ]
  }
 ],
 "metadata": {
  "kernelspec": {
   "display_name": "Python 3",
   "language": "python",
   "name": "python3"
  },
  "language_info": {
   "codemirror_mode": {
    "name": "ipython",
    "version": 3
   },
   "file_extension": ".py",
   "mimetype": "text/x-python",
   "name": "python",
   "nbconvert_exporter": "python",
   "pygments_lexer": "ipython3",
   "version": "3.11.1"
  },
  "orig_nbformat": 4
 },
 "nbformat": 4,
 "nbformat_minor": 2
}
