{
 "cells": [
  {
   "cell_type": "code",
   "execution_count": 6,
   "metadata": {},
   "outputs": [
    {
     "name": "stdout",
     "output_type": "stream",
     "text": [
      "1\n",
      "0\n"
     ]
    }
   ],
   "source": [
    "n = int(input())\n",
    "A = []\n",
    "\n",
    "i = n//2\n",
    "\n",
    "A.append(i)\n",
    "\n",
    "# 해당하는게 아무리 돌아도 결국 중간값을 찾는 알고리즘이기 때문에 상수 즉 O(1)임\n",
    "\n",
    "print(1)\n",
    "print(0)"
   ]
  },
  {
   "cell_type": "code",
   "execution_count": 10,
   "metadata": {},
   "outputs": [
    {
     "name": "stdout",
     "output_type": "stream",
     "text": [
      "7\n",
      "1\n"
     ]
    }
   ],
   "source": [
    "n = int(input())\n",
    "count = 0;\n",
    "sum = 0\n",
    "for i in range(0,n):\n",
    "    sum += i\n",
    "    count +=1\n",
    "    \n",
    "    \n",
    "print(count)\n",
    "print(1)\n",
    "    \n",
    "# 이거는 for 문을 돌면서 sum을 한번씩 더하는 거니까 O(n) 즉 하나임"
   ]
  },
  {
   "cell_type": "code",
   "execution_count": 17,
   "metadata": {},
   "outputs": [
    {
     "name": "stdout",
     "output_type": "stream",
     "text": [
      "49\n",
      "2\n"
     ]
    }
   ],
   "source": [
    "n = int(input())\n",
    "count = 0;\n",
    "sum = 0\n",
    "\n",
    "for i in range(0,n) :\n",
    "    for j in range(0,n):\n",
    "        #sum += i*j\n",
    "        # print(f\"{i} * {j} = {sum}\")\n",
    "        count +=1\n",
    "        \n",
    "print(count)\n",
    "print(2) # i , j -> x x  -> 2\n"
   ]
  },
  {
   "cell_type": "code",
   "execution_count": 18,
   "metadata": {},
   "outputs": [
    {
     "name": "stdout",
     "output_type": "stream",
     "text": [
      "49\n",
      "2\n"
     ]
    }
   ],
   "source": [
    "number = int(input())\n",
    "print(number*number)\n",
    "print(2)"
   ]
  },
  {
   "cell_type": "code",
   "execution_count": 25,
   "metadata": {},
   "outputs": [
    {
     "name": "stdout",
     "output_type": "stream",
     "text": [
      "21\n"
     ]
    }
   ],
   "source": [
    "# # 실제구현\n",
    "# number = int(input())\n",
    "# sum = 0\n",
    "# temp = number\n",
    "# count = 0\n",
    "# for i in range(0,number-1):\n",
    "#     for j in range(i+1,number):\n",
    "#         sum += i*j\n",
    "#         count+=1\n",
    "        \n",
    "        \n",
    "# print(count)\n",
    "# print(2)\n",
    "\n",
    "# 제출용\n",
    "\n",
    "number = int(input())\n",
    "sum = number*(number-1)//2\n",
    "print(sum)\n",
    "print(2)\n",
    "\n",
    "\n"
   ]
  },
  {
   "cell_type": "code",
   "execution_count": 27,
   "metadata": {},
   "outputs": [
    {
     "name": "stdout",
     "output_type": "stream",
     "text": [
      "343\n"
     ]
    }
   ],
   "source": [
    "# #구현 코드\n",
    "# number = int(input())\n",
    "# sum = 0\n",
    "# count = 0\n",
    "# for i in range(0,number):\n",
    "#     for j in range(0,number):\n",
    "#         for k in range(0,number):\n",
    "#             sum+=i*j*k\n",
    "#             count+=1\n",
    "\n",
    "# print(count)\n",
    "# 제출용 코드\n",
    "# i , j ,k  3 bigO -> n^3\n",
    "\n",
    "number = int(input())\n",
    "sum = number*number*number\n",
    "print(sum)\n",
    "print(3)\n",
    "\n",
    "\n"
   ]
  },
  {
   "cell_type": "code",
   "execution_count": 35,
   "metadata": {},
   "outputs": [
    {
     "name": "stdout",
     "output_type": "stream",
     "text": [
      "35\n",
      "3\n"
     ]
    }
   ],
   "source": [
    "#구현 코드\n",
    "\n",
    "# number = int(input())\n",
    "# sum = 0 \n",
    "# count =0\n",
    "\n",
    "# for i in range(0,number-2):\n",
    "#     for j in range(i+1,number-1):\n",
    "#         for k in range(j+1,number):\n",
    "#             sum+= i*j*k\n",
    "#             count +=1\n",
    "            \n",
    "            \n",
    "# print(count)\n",
    "\n",
    "# 제출용 코드\n",
    "# n-2 , n-2~n-1 , n-1~n -> n * n-1 * n-2 \n",
    "#//는 * 보다 먼저 계산된다.\n",
    "number = int(input())\n",
    "\n",
    "sum = ((number-2)*(number-1)*number)//(2*3)\n",
    "print(sum)\n",
    "print(3)\n",
    "\n",
    "\n",
    "\n"
   ]
  },
  {
   "cell_type": "code",
   "execution_count": 41,
   "metadata": {},
   "outputs": [
    {
     "name": "stdout",
     "output_type": "stream",
     "text": [
      "0\n"
     ]
    }
   ],
   "source": [
    "# n0 -> 최소 .. 시작값 -> n에 넣음 -> 이러면 상수값이 되니까 O(1) 이게 되어버리네\n",
    "# a1,a2  =  map(int, input().split())\n",
    "# c = int(input())\n",
    "# n0 = int(input())\n",
    "# n= n0\n",
    "\n",
    "# fn = a1*n + a2\n",
    "# gn = c*n\n",
    "\n",
    "\n",
    "# if fn <= gn :\n",
    "#     print(1)\n",
    "# else :\n",
    "#     print(0)\n",
    "    \n",
    "# 결국 비교하는건 O(n)인데 .. 그러면 n값만 비교하면 되네\n",
    "\n",
    "# a1,a2  =  map(int, input().split())\n",
    "# c = int(input())\n",
    "# n0 = int(input())\n",
    "\n",
    "# # 여기서 a1 이랑 c -> a1*n 비교 C*n 이니까 결국 C*n이 크거나 같은 경우만 고려하면 계산이 되겠네\n",
    "\n",
    "# if a1 <=c :\n",
    "#     print(1)\n",
    "# else:\n",
    "#     print(0)\n",
    "\n",
    "# 왜틀린가.. ? 맞네 뒤에 붙느 a2가 초반 루프에서 영향을 줄 경우가 있을 수 있겠으니까 .. 두게다 비교하면 되나?\n",
    "\n",
    "\n",
    "a1,a2  =  map(int, input().split())\n",
    "c = int(input())\n",
    "n0 = int(input())\n",
    "n= n0\n",
    "\n",
    "fn = a1*n + a2\n",
    "gn = c*n\n",
    "\n",
    "\n",
    "if fn <= gn and a1 <= c:\n",
    "    print(1)\n",
    "else :\n",
    "    print(0)\n",
    "\n",
    "#이게 맞다."
   ]
  }
 ],
 "metadata": {
  "kernelspec": {
   "display_name": "Python 3",
   "language": "python",
   "name": "python3"
  },
  "language_info": {
   "codemirror_mode": {
    "name": "ipython",
    "version": 3
   },
   "file_extension": ".py",
   "mimetype": "text/x-python",
   "name": "python",
   "nbconvert_exporter": "python",
   "pygments_lexer": "ipython3",
   "version": "3.11.1"
  },
  "orig_nbformat": 4
 },
 "nbformat": 4,
 "nbformat_minor": 2
}
