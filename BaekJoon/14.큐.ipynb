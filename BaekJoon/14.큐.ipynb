{
 "cells": [
  {
   "cell_type": "code",
   "execution_count": 6,
   "metadata": {},
   "outputs": [
    {
     "ename": "KeyboardInterrupt",
     "evalue": "",
     "output_type": "error",
     "traceback": [
      "\u001b[0;31m---------------------------------------------------------------------------\u001b[0m",
      "\u001b[0;31mKeyboardInterrupt\u001b[0m                         Traceback (most recent call last)",
      "Cell \u001b[0;32mIn[6], line 3\u001b[0m\n\u001b[1;32m      1\u001b[0m \u001b[39mimport\u001b[39;00m \u001b[39msys\u001b[39;00m\n\u001b[0;32m----> 3\u001b[0m n \u001b[39m=\u001b[39m \u001b[39mint\u001b[39m(sys\u001b[39m.\u001b[39;49mstdin\u001b[39m.\u001b[39;49mreadline())\n\u001b[1;32m      4\u001b[0m que \u001b[39m=\u001b[39m []\n\u001b[1;32m      6\u001b[0m \u001b[39mfor\u001b[39;00m _ \u001b[39min\u001b[39;00m \u001b[39mrange\u001b[39m(n):\n",
      "\u001b[0;31mKeyboardInterrupt\u001b[0m: "
     ]
    }
   ],
   "source": [
    "import sys\n",
    "\n",
    "n = int(sys.stdin.readline())\n",
    "que = []\n",
    "\n",
    "for _ in range(n):\n",
    "    input_list = sys.stdin.readline().split()\n",
    "\n",
    "    command = input_list[0]\n",
    "\n",
    "    if command == \"push\":\n",
    "        num = int(input_list[1])\n",
    "        \n",
    "        if len(que) < 10000:\n",
    "            que.append(num)\n",
    "            \n",
    "    elif command == \"pop\":\n",
    "        if len(que) == 0:\n",
    "            print(-1)\n",
    "        else:\n",
    "            print(que.pop(0))\n",
    "            \n",
    "    elif command == \"size\":\n",
    "        print(len(que))\n",
    "        \n",
    "    elif command == \"empty\":\n",
    "        if len(que) == 0:\n",
    "            print(1)\n",
    "        else:\n",
    "            print(0)\n",
    "            \n",
    "    elif command == \"front\":\n",
    "        if len(que) == 0:\n",
    "            print(-1)\n",
    "        else:\n",
    "            print(que[0])\n",
    "            \n",
    "    elif command == \"back\":\n",
    "        if len(que) == 0:\n",
    "            print(-1)\n",
    "        else:\n",
    "            print(que[-1])\n"
   ]
  },
  {
   "cell_type": "code",
   "execution_count": null,
   "metadata": {},
   "outputs": [],
   "source": [
    "import sys\n",
    "from collections import deque\n",
    "n = int(sys.stdin.readline())\n",
    "q = deque([])\n",
    "for i in range(n):\n",
    "    s = sys.stdin.readline().split()\n",
    "    if s[0] == 'push':\n",
    "        q.append(s[1])\n",
    "    elif s[0] == 'pop':\n",
    "        if not q:\n",
    "            print(-1)\n",
    "        else:\n",
    "            print(q.popleft())\n",
    "    elif s[0] == 'size':\n",
    "        print(len(q))\n",
    "    elif s[0] == 'empty':\n",
    "        if not q:\n",
    "            print(1)\n",
    "        else:\n",
    "            print(0)\n",
    "    elif s[0] == 'front':\n",
    "        if not q:\n",
    "            print(-1)\n",
    "        else:\n",
    "            print(q[0])\n",
    "    elif s[0] == 'back':\n",
    "        if not q:\n",
    "            print(-1)\n",
    "        else:\n",
    "            print(q[-1])"
   ]
  },
  {
   "cell_type": "code",
   "execution_count": null,
   "metadata": {},
   "outputs": [],
   "source": [
    "import sys\n",
    "from collections import deque\n",
    "\n",
    "# n = int(input())\n",
    "n = int(sys.stdin.readline())\n",
    "que = deque([])\n",
    "\n",
    "for i in range(1,n+1):\n",
    "    que.append(i)\n",
    "\n",
    "for i in range(0,n-1):\n",
    "    # print(que.popleft())\n",
    "    que.popleft()\n",
    "    \n",
    "    for j in range(0, len(que)-1):\n",
    "        temp = que[j]\n",
    "        que[j] = que[j+1]\n",
    "        que[j+1] = temp\n",
    "        # print(\"한큐 : \",que)\n",
    "    \n",
    "print(que[0])"
   ]
  },
  {
   "cell_type": "code",
   "execution_count": 18,
   "metadata": {},
   "outputs": [
    {
     "name": "stdout",
     "output_type": "stream",
     "text": [
      "<3, 6, 2, 7, 5, 1, 4>"
     ]
    }
   ],
   "source": [
    "from collections import deque\n",
    "import sys\n",
    "\n",
    "n, k = map(int, sys.stdin.readline().split())\n",
    "\n",
    "# n, k = map(int, input().split())\n",
    "que = deque([])\n",
    "\n",
    "for i in range(1, n+1):\n",
    "    que.append(i)\n",
    "\n",
    "print(\"<\", end=\"\")\n",
    "while que:\n",
    "    for i in range(k-1):\n",
    "        que.append(que.popleft())\n",
    "    if len(que) == 1:\n",
    "        print(que.popleft(), end=\"\")\n",
    "    else:\n",
    "        print(que.popleft(), end=\", \")\n",
    "print(\">\", end=\"\")"
   ]
  },
  {
   "cell_type": "code",
   "execution_count": 45,
   "metadata": {},
   "outputs": [
    {
     "name": "stdout",
     "output_type": "stream",
     "text": [
      "6\n"
     ]
    }
   ],
   "source": [
    "from collections import deque\n",
    "import sys\n",
    "\n",
    "# t = int(input())\n",
    "t = int(sys.stdin.readline())\n",
    "\n",
    "for _ in range(t):\n",
    "    # n, m = map(int, input().split())\n",
    "    # n_list = list(map(int, input().split()))\n",
    "    n, m = map(int, sys.stdin.readline().split())\n",
    "    n_list = list(map(int, sys.stdin.readline().split()))\n",
    "\n",
    "    que = deque([(p, i) for i, p in enumerate(n_list)])\n",
    "    count = 0\n",
    "\n",
    "    while que:\n",
    "        front = que.popleft()\n",
    "\n",
    "        if que and max(que)[0] > front[0]:\n",
    "            que.append(front)\n",
    "        else:\n",
    "            count += 1\n",
    "\n",
    "            if front[1] == m:\n",
    "                print(count)\n",
    "                break\n"
   ]
  }
 ],
 "metadata": {
  "kernelspec": {
   "display_name": "Python 3",
   "language": "python",
   "name": "python3"
  },
  "language_info": {
   "codemirror_mode": {
    "name": "ipython",
    "version": 3
   },
   "file_extension": ".py",
   "mimetype": "text/x-python",
   "name": "python",
   "nbconvert_exporter": "python",
   "pygments_lexer": "ipython3",
   "version": "3.11.1"
  },
  "orig_nbformat": 4
 },
 "nbformat": 4,
 "nbformat_minor": 2
}
