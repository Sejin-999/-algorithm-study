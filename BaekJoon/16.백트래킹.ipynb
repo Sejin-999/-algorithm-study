{
 "cells": [
  {
   "cell_type": "code",
   "execution_count": 4,
   "metadata": {},
   "outputs": [
    {
     "name": "stdout",
     "output_type": "stream",
     "text": [
      "1 2\n",
      "1 3\n",
      "1 4\n",
      "2 1\n",
      "2 3\n",
      "2 4\n",
      "3 1\n",
      "3 2\n",
      "3 4\n",
      "4 1\n",
      "4 2\n",
      "4 3\n"
     ]
    }
   ],
   "source": [
    "def dfs(N, M, depth, selected, visited):\n",
    "    if depth == M:\n",
    "        print(' '.join(map(str, selected)))\n",
    "        return\n",
    "\n",
    "    for i in range(1, N+1):\n",
    "        if not visited[i]:\n",
    "            visited[i] = True\n",
    "            selected.append(i)\n",
    "            dfs(N, M, depth+1, selected, visited)\n",
    "            visited[i] = False\n",
    "            selected.pop()\n",
    "\n",
    "N, M = map(int, input().split())\n",
    "visited = [False] * (N+1)\n",
    "selected = []\n",
    "\n",
    "dfs(N, M, 0, selected, visited)\n"
   ]
  }
 ],
 "metadata": {
  "kernelspec": {
   "display_name": "Python 3",
   "language": "python",
   "name": "python3"
  },
  "language_info": {
   "codemirror_mode": {
    "name": "ipython",
    "version": 3
   },
   "file_extension": ".py",
   "mimetype": "text/x-python",
   "name": "python",
   "nbconvert_exporter": "python",
   "pygments_lexer": "ipython3",
   "version": "3.11.1"
  },
  "orig_nbformat": 4
 },
 "nbformat": 4,
 "nbformat_minor": 2
}
