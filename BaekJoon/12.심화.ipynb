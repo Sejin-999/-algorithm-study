{
 "cells": [
  {
   "cell_type": "code",
   "execution_count": 10,
   "metadata": {},
   "outputs": [
    {
     "name": "stdout",
     "output_type": "stream",
     "text": [
      "5\n"
     ]
    }
   ],
   "source": [
    "n = int(input())\n",
    "chat_list = set()\n",
    "count = 0\n",
    "for i in range(0,n):\n",
    "    chat = input()\n",
    "    if chat == \"ENTER\":\n",
    "        count+=len(chat_list)\n",
    "        chat_list = set()\n",
    "        #print(\"초기화 완료 : \" , chat_list)\n",
    "        \n",
    "    else : \n",
    "        chat_list.add(chat)\n",
    "        \n",
    "count += len(chat_list)        \n",
    "print(count)"
   ]
  },
  {
   "cell_type": "code",
   "execution_count": 13,
   "metadata": {},
   "outputs": [
    {
     "name": "stdout",
     "output_type": "stream",
     "text": [
      "2\n"
     ]
    }
   ],
   "source": [
    "n = int(input())\n",
    "temp = \"\"\n",
    "count = 1\n",
    "for i in range(0,n):\n",
    "    x,y = input().split()\n",
    "    \n",
    "    if y == \"ChongChong\":\n",
    "        temp = x\n",
    "    if temp == x:\n",
    "        temp = y\n",
    "        count +=1\n",
    "        \n",
    "print(count)"
   ]
  },
  {
   "cell_type": "code",
   "execution_count": 26,
   "metadata": {},
   "outputs": [
    {
     "name": "stdout",
     "output_type": "stream",
     "text": [
      "4\n",
      "4\n"
     ]
    },
    {
     "ename": "TypeError",
     "evalue": "'int' object is not callable",
     "output_type": "error",
     "traceback": [
      "\u001b[0;31m---------------------------------------------------------------------------\u001b[0m",
      "\u001b[0;31mTypeError\u001b[0m                                 Traceback (most recent call last)",
      "Cell \u001b[0;32mIn[26], line 32\u001b[0m\n\u001b[1;32m     29\u001b[0m     \u001b[39melse\u001b[39;00m:\n\u001b[1;32m     30\u001b[0m         n_dic[i] \u001b[39m=\u001b[39m \u001b[39m1\u001b[39m\n\u001b[0;32m---> 32\u001b[0m max_count \u001b[39m=\u001b[39m \u001b[39mmax\u001b[39;49m(n_dic\u001b[39m.\u001b[39;49mvalues())\n\u001b[1;32m     34\u001b[0m \u001b[39mprint\u001b[39m(max_count)\n\u001b[1;32m     36\u001b[0m \u001b[39m#4 범위 : N개의 수들 중 최댓값과 최솟값의 차이\u001b[39;00m\n",
      "\u001b[0;31mTypeError\u001b[0m: 'int' object is not callable"
     ]
    }
   ],
   "source": [
    "#제출용\n",
    "import sys\n",
    "\n",
    "n = int(sys.stdin.readline())\n",
    "n_list = []\n",
    "\n",
    "for _ in range(n):\n",
    "    n_list.append(int(sys.stdin.readline()))\n",
    "\n",
    "# 1. 산술평균: n개합 / n\n",
    "sum = 0\n",
    "for i in n_list:\n",
    "    sum += i\n",
    "print(round(sum // n, 0)) \n",
    "\n",
    "# 2. 중앙값: 증가순 나열 후 중앙값\n",
    "n_list.sort()\n",
    "middle_n = n // 2\n",
    "print(n_list[middle_n])\n",
    "\n",
    "# 3. 최빈값: 제일 많이 나오는 수 (여러 개일 경우 작은 값 출력)\n",
    "n_dic = {}\n",
    "for i in n_list:\n",
    "    if i in n_dic:\n",
    "        n_dic[i] += 1\n",
    "    else:\n",
    "        n_dic[i] = 1\n",
    "max_count = max(n_dic.values())\n",
    "max_list = [k for k, v in n_dic.items() if v == max_count]\n",
    "print(sorted(max_list)[0])\n",
    "\n",
    "# 4. 범위: N개의 수들 중 최댓값과 최솟값의 차이\n",
    "max = len(n_list) - 1\n",
    "dd = n_list[max] - n_list[0]\n",
    "print(dd)\n"
   ]
  },
  {
   "cell_type": "code",
   "execution_count": 4,
   "metadata": {},
   "outputs": [
    {
     "name": "stdout",
     "output_type": "stream",
     "text": [
      "sand\n",
      "apple\n",
      "append\n"
     ]
    }
   ],
   "source": [
    "n , m = map(int , input().split())\n",
    "\n",
    "# m 보다 len이 적은 경우 추가안함 ..\n",
    "#자주 나오는 단어일수록 앞에 배치한다.\n",
    "#해당 단어의 길이가 길수록 앞에 배치한다.\n",
    "#알파벳 사전 순으로 앞에 있는 단어일수록 앞에 배치한다\n",
    "\n",
    "word_list = []\n",
    "for _ in range(0,n):\n",
    "    word = input()\n",
    "    \n",
    "    if len(word) >= m:\n",
    "        word_list.append(word)\n",
    "\n",
    "# word_list.sort(key=lambda x: -len(x)) #\n",
    "\n",
    "\n",
    "word_set = {}\n",
    "\n",
    "for i in word_list:\n",
    "    if i in word_set:\n",
    "        word_set[i] +=1\n",
    "    else :\n",
    "        word_set[i] = 1\n",
    "sort_t = sorted(word_set.items(), key=lambda x: (-x[1], -len(x[0]), x[0]))       \n",
    "\n",
    "for word , count in sort_t:\n",
    "    print(word)\n",
    "    \n",
    "    \n",
    "#제출용\n",
    "# import sys\n",
    "\n",
    "# n, m = map(int, sys.stdin.readline().split())\n",
    "\n",
    "# word_list = []\n",
    "# for _ in range(n):\n",
    "#     word = sys.stdin.readline().strip()\n",
    "#     if len(word) >= m:\n",
    "#         word_list.append(word)\n",
    "\n",
    "# word_set = {}\n",
    "# for word in word_list:\n",
    "#     word_set[word] = word_set.get(word, 0) + 1\n",
    "\n",
    "# sort_t = sorted(word_set.items(), key=lambda x: (-x[1], -len(x[0]), x[0]))       \n",
    "# for word, count in sort_t:\n",
    "#     print(word)\n"
   ]
  }
 ],
 "metadata": {
  "kernelspec": {
   "display_name": "Python 3",
   "language": "python",
   "name": "python3"
  },
  "language_info": {
   "codemirror_mode": {
    "name": "ipython",
    "version": 3
   },
   "file_extension": ".py",
   "mimetype": "text/x-python",
   "name": "python",
   "nbconvert_exporter": "python",
   "pygments_lexer": "ipython3",
   "version": "3.11.1"
  },
  "orig_nbformat": 4
 },
 "nbformat": 4,
 "nbformat_minor": 2
}
