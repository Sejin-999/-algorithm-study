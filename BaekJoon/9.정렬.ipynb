{
 "cells": [
  {
   "cell_type": "code",
   "execution_count": 14,
   "metadata": {},
   "outputs": [
    {
     "name": "stdout",
     "output_type": "stream",
     "text": [
      "1\n",
      "2\n",
      "3\n",
      "5\n",
      "8\n"
     ]
    }
   ],
   "source": [
    "n = int(input())\n",
    "num_list = []\n",
    "\n",
    "for _ in range(0,n):\n",
    "    b = int(input())\n",
    "    num_list.append(b)\n",
    "    \n",
    "for i in range(0,n):\n",
    "    for j in range(i+1,n):\n",
    "        if num_list[i] > num_list[j]:\n",
    "            temp = num_list[i]\n",
    "            num_list[i] = num_list[j]\n",
    "            num_list[j] = temp\n",
    "            \n",
    "for i in range(0,n):\n",
    "    print(num_list[i])"
   ]
  },
  {
   "cell_type": "code",
   "execution_count": 18,
   "metadata": {},
   "outputs": [
    {
     "name": "stdout",
     "output_type": "stream",
     "text": [
      "30 30\n"
     ]
    }
   ],
   "source": [
    "num_list = []\n",
    "sum = 0\n",
    "\n",
    "for _ in range(5):\n",
    "    b = int(input())\n",
    "    sum += b\n",
    "    num_list.append(b)\n",
    "\n",
    "# num_list 정렬하기\n",
    "for i in range(0, len(num_list)):\n",
    "    for j in range(i+1, len(num_list)):\n",
    "        if num_list[i] > num_list[j]:\n",
    "            temp = num_list[i]\n",
    "            num_list[i] = num_list[j]\n",
    "            num_list[j] = temp\n",
    "\n",
    "print(sum // 5, num_list[2])"
   ]
  },
  {
   "cell_type": "code",
   "execution_count": 27,
   "metadata": {},
   "outputs": [
    {
     "name": "stdout",
     "output_type": "stream",
     "text": [
      "98\n"
     ]
    }
   ],
   "source": [
    "n , m = map(int , input().split())\n",
    "score_list = list(map(int , input().split()))\n",
    "\n",
    "for i in range(0, len(score_list)):\n",
    "    for j in range(i+1, len(score_list)):\n",
    "        if score_list[i] > score_list[j]:\n",
    "            temp =score_list[i]\n",
    "            score_list[i] =score_list[j]\n",
    "            score_list[j] = temp\n",
    "            \n",
    "score_list.reverse()\n",
    "print(score_list[m-1])"
   ]
  },
  {
   "cell_type": "code",
   "execution_count": 30,
   "metadata": {},
   "outputs": [
    {
     "ename": "ValueError",
     "evalue": "invalid literal for int() with base 10: '5 4 3 2 1'",
     "output_type": "error",
     "traceback": [
      "\u001b[0;31m---------------------------------------------------------------------------\u001b[0m",
      "\u001b[0;31mValueError\u001b[0m                                Traceback (most recent call last)",
      "Cell \u001b[0;32mIn[30], line 15\u001b[0m\n\u001b[1;32m      1\u001b[0m \u001b[39m# n = int(input())\u001b[39;00m\n\u001b[1;32m      2\u001b[0m \u001b[39m# num_list = []\u001b[39;00m\n\u001b[1;32m      3\u001b[0m \n\u001b[0;32m   (...)\u001b[0m\n\u001b[1;32m     10\u001b[0m \u001b[39m# for i in range(n):\u001b[39;00m\n\u001b[1;32m     11\u001b[0m \u001b[39m#     print(num_list[i])\u001b[39;00m\n\u001b[1;32m     13\u001b[0m \u001b[39mimport\u001b[39;00m \u001b[39msys\u001b[39;00m\n\u001b[0;32m---> 15\u001b[0m n \u001b[39m=\u001b[39m \u001b[39mint\u001b[39;49m(\u001b[39minput\u001b[39;49m())\n\u001b[1;32m     16\u001b[0m num \u001b[39m=\u001b[39m []\n\u001b[1;32m     17\u001b[0m \u001b[39mfor\u001b[39;00m _ \u001b[39min\u001b[39;00m \u001b[39mrange\u001b[39m(n):\n",
      "\u001b[0;31mValueError\u001b[0m: invalid literal for int() with base 10: '5 4 3 2 1'"
     ]
    }
   ],
   "source": [
    "# n = int(input())\n",
    "# num_list = []\n",
    "\n",
    "# for _ in range(n):\n",
    "#     b = int(input())\n",
    "#     num_list.append(b)\n",
    "\n",
    "# num_list = sorted(num_list)\n",
    "\n",
    "# for i in range(n):\n",
    "#     print(num_list[i])\n",
    "\n",
    "import sys\n",
    "\n",
    "n = int(input())\n",
    "num = []\n",
    "for _ in range(n):\n",
    "    num.append(int(sys.stdin.readline()))\n",
    "\n",
    "num.sort()\n",
    "\n",
    "for i in num:\n",
    "    print(i)"
   ]
  },
  {
   "cell_type": "code",
   "execution_count": 31,
   "metadata": {},
   "outputs": [
    {
     "ename": "KeyboardInterrupt",
     "evalue": "",
     "output_type": "error",
     "traceback": [
      "\u001b[0;31m---------------------------------------------------------------------------\u001b[0m",
      "\u001b[0;31mKeyboardInterrupt\u001b[0m                         Traceback (most recent call last)",
      "Cell \u001b[0;32mIn[31], line 3\u001b[0m\n\u001b[1;32m      1\u001b[0m \u001b[39mimport\u001b[39;00m \u001b[39msys\u001b[39;00m\n\u001b[0;32m----> 3\u001b[0m n \u001b[39m=\u001b[39m \u001b[39mint\u001b[39m(sys\u001b[39m.\u001b[39;49mstdin\u001b[39m.\u001b[39;49mreadline())\n\u001b[1;32m      4\u001b[0m num_list \u001b[39m=\u001b[39m [\u001b[39m0\u001b[39m] \u001b[39m*\u001b[39m \u001b[39m10001\u001b[39m\n\u001b[1;32m      6\u001b[0m \u001b[39mfor\u001b[39;00m _ \u001b[39min\u001b[39;00m \u001b[39mrange\u001b[39m(n):\n",
      "\u001b[0;31mKeyboardInterrupt\u001b[0m: "
     ]
    }
   ],
   "source": [
    "import sys\n",
    "\n",
    "n = int(sys.stdin.readline())\n",
    "num_list = [0] * 10001\n",
    "\n",
    "for _ in range(n):\n",
    "    num_list[int(sys.stdin.readline())] += 1\n",
    "\n",
    "for i in range(10001):\n",
    "    if num_list[i] != 0:\n",
    "        for j in range(num_list[i]):\n",
    "            print(i)"
   ]
  },
  {
   "cell_type": "code",
   "execution_count": 35,
   "metadata": {},
   "outputs": [
    {
     "name": "stdout",
     "output_type": "stream",
     "text": [
      "75211\n"
     ]
    }
   ],
   "source": [
    "s = input()\n",
    "s = sorted(s, reverse=True)\n",
    "print(''.join(s))"
   ]
  }
 ],
 "metadata": {
  "kernelspec": {
   "display_name": "Python 3",
   "language": "python",
   "name": "python3"
  },
  "language_info": {
   "codemirror_mode": {
    "name": "ipython",
    "version": 3
   },
   "file_extension": ".py",
   "mimetype": "text/x-python",
   "name": "python",
   "nbconvert_exporter": "python",
   "pygments_lexer": "ipython3",
   "version": "3.11.1"
  },
  "orig_nbformat": 4
 },
 "nbformat": 4,
 "nbformat_minor": 2
}
