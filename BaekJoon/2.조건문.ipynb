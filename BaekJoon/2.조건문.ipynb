{
 "cells": [
  {
   "cell_type": "code",
   "execution_count": 4,
   "id": "fde45333",
   "metadata": {},
   "outputs": [
    {
     "name": "stdout",
     "output_type": "stream",
     "text": [
      "5 5\n",
      "==\n"
     ]
    }
   ],
   "source": [
    "a,b = map(int ,input().split())\n",
    "\n",
    "if a>b:\n",
    "    print(\">\")\n",
    "elif a<b:\n",
    "    print(\"<\")\n",
    "else:\n",
    "    print(\"==\")\n"
   ]
  },
  {
   "cell_type": "code",
   "execution_count": 7,
   "id": "59c2858e",
   "metadata": {},
   "outputs": [
    {
     "name": "stdout",
     "output_type": "stream",
     "text": [
      "100\n",
      "A\n"
     ]
    }
   ],
   "source": [
    "a = int(input())\n",
    "if (a>=90) and (a<=100):\n",
    "    print(\"A\")\n",
    "elif a>=80:\n",
    "    print(\"B\")\n",
    "elif a>=70:\n",
    "    print(\"C\")\n",
    "elif a>=60:\n",
    "    print(\"D\")\n",
    "else:\n",
    "    print(\"F\")"
   ]
  },
  {
   "cell_type": "code",
   "execution_count": 9,
   "id": "0685c589",
   "metadata": {},
   "outputs": [
    {
     "name": "stdout",
     "output_type": "stream",
     "text": [
      "1999\n",
      "0\n"
     ]
    }
   ],
   "source": [
    "year = int(input())\n",
    "\n",
    "if year%4==0 and (year%100!=0 or year%400==0):\n",
    "    print(\"1\")\n",
    "else:\n",
    "    print(\"0\")"
   ]
  },
  {
   "cell_type": "code",
   "execution_count": 12,
   "id": "69af0aa9",
   "metadata": {},
   "outputs": [
    {
     "name": "stdout",
     "output_type": "stream",
     "text": [
      "12\n",
      "5\n",
      "1\n"
     ]
    }
   ],
   "source": [
    "x = int(input())\n",
    "y = int(input())\n",
    "\n",
    "if x>0:\n",
    "    if y>0:\n",
    "        print(\"1\")\n",
    "    else :\n",
    "        print(\"4\")\n",
    "else:\n",
    "    if y>0:\n",
    "        print(\"2\")\n",
    "    else:\n",
    "        print(\"3\")\n",
    "    "
   ]
  },
  {
   "cell_type": "code",
   "execution_count": 21,
   "id": "ead3d086",
   "metadata": {},
   "outputs": [
    {
     "name": "stdout",
     "output_type": "stream",
     "text": [
      "0 30\n",
      "23 45\n"
     ]
    }
   ],
   "source": [
    "H,M = map(int ,input().split())\n",
    "temp = M\n",
    "M = M-45\n",
    "\n",
    "if M <0 :\n",
    "    M +=60\n",
    "    if H != 0 :\n",
    "        H -= 1\n",
    "    else:\n",
    "        H = 23\n",
    "        \n",
    "print(H,M)"
   ]
  },
  {
   "cell_type": "code",
   "execution_count": 26,
   "id": "b8039645",
   "metadata": {},
   "outputs": [
    {
     "name": "stdout",
     "output_type": "stream",
     "text": [
      "23 48\n",
      "25\n",
      "0 13\n"
     ]
    }
   ],
   "source": [
    "H,M = map(int ,input().split())\n",
    "setM = int(input())\n",
    "\n",
    "resM = M+setM\n",
    "\n",
    "while True:\n",
    "    if resM > 59:\n",
    "        resM -= 60\n",
    "        H+=1\n",
    "        \n",
    "        if H == 24 :\n",
    "            H = 0\n",
    "    else:\n",
    "        break\n",
    "        \n",
    "print(H,resM)"
   ]
  },
  {
   "cell_type": "code",
   "execution_count": 41,
   "id": "85e024de",
   "metadata": {},
   "outputs": [
    {
     "name": "stdout",
     "output_type": "stream",
     "text": [
      "6 2 5\n",
      "600\n"
     ]
    }
   ],
   "source": [
    "def diceRule(diceList):\n",
    "\n",
    "    if diceList.count(diceList[0]) == 3:\n",
    "        return 10000 + diceList[0] *1000\n",
    "    elif diceList.count(diceList[0]) == 2 or diceList.count(diceList[1]) == 2:\n",
    "        if diceList.count(diceList[0]) == 2:\n",
    "            return 1000 + diceList[0] *100\n",
    "        else:\n",
    "            return 1000 + diceList[1] *100\n",
    "    else:\n",
    "        return max(diceList)*100\n",
    "\n",
    "\n",
    "a,b,c= map(int ,input().split())\n",
    "\n",
    "diceList = [a,b,c]\n",
    "diceList.sort()\n",
    "\n",
    "\n",
    "#print (diceList)\n",
    "\n",
    "res = diceRule(diceList)\n",
    "\n",
    "print(res)\n",
    "\n"
   ]
  },
  {
   "cell_type": "code",
   "execution_count": null,
   "id": "24372447",
   "metadata": {},
   "outputs": [],
   "source": []
  },
  {
   "cell_type": "code",
   "execution_count": null,
   "id": "5f3a600f",
   "metadata": {},
   "outputs": [],
   "source": []
  }
 ],
 "metadata": {
  "kernelspec": {
   "display_name": "Python 3 (ipykernel)",
   "language": "python",
   "name": "python3"
  },
  "language_info": {
   "codemirror_mode": {
    "name": "ipython",
    "version": 3
   },
   "file_extension": ".py",
   "mimetype": "text/x-python",
   "name": "python",
   "nbconvert_exporter": "python",
   "pygments_lexer": "ipython3",
   "version": "3.9.13"
  }
 },
 "nbformat": 4,
 "nbformat_minor": 5
}
