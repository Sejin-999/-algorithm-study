{
 "cells": [
  {
   "cell_type": "code",
   "execution_count": 7,
   "metadata": {},
   "outputs": [
    {
     "name": "stdout",
     "output_type": "stream",
     "text": [
      "1\n",
      "1 0 0 1\n",
      "1 1\n",
      "1 0 0 1\n",
      "1 "
     ]
    }
   ],
   "source": [
    "# n = int(input())\n",
    "# card_list = list(map(int, input().split()))\n",
    "# m = int(input())\n",
    "# check_list = list(map(int, input().split()))\n",
    "\n",
    "# for i in card_list:\n",
    "#     count = 0\n",
    "#     for j in check_list:\n",
    "        \n",
    "#         if i == j :\n",
    "#             print(1 ,end=\" \")\n",
    "#             break\n",
    "#         elif count == m :\n",
    "#              print(0 , end=\"\")\n",
    "#              count = 0\n",
    "#         else : \n",
    "#             count+=1\n",
    "\n",
    "n = int(input())\n",
    "card_list = list(map(int, input().split()))\n",
    "m = int(input())\n",
    "check_list = list(map(int, input().split()))\n",
    "\n",
    "card_dict = {}\n",
    "for card in card_list:\n",
    "    if card in card_dict:\n",
    "        card_dict[card] += 1\n",
    "    else:\n",
    "        card_dict[card] = 1\n",
    "\n",
    "for check in check_list:\n",
    "    if check in card_dict and card_dict[check] > 0:\n",
    "        print(1, end=' ')\n",
    "        card_dict[check] -= 1\n",
    "    else:\n",
    "        print(0, end=' ')\n"
   ]
  },
  {
   "cell_type": "code",
   "execution_count": null,
   "metadata": {},
   "outputs": [],
   "source": []
  },
  {
   "cell_type": "code",
   "execution_count": 12,
   "metadata": {},
   "outputs": [
    {
     "name": "stdout",
     "output_type": "stream",
     "text": [
      "3\n"
     ]
    }
   ],
   "source": [
    "# n , m = map(int , input().split())\n",
    "# n_dict ={}\n",
    "# m_dict = {}\n",
    "\n",
    "# for i in range(0,n):\n",
    "#     n_dict[i] = input()\n",
    "    \n",
    "# for i in range(0,m):\n",
    "#     m_dict[i] = input()\n",
    "    \n",
    "# count = len(set(n_dict.keys()) & set(m_dict.keys()))\n",
    "# print(count)\n",
    "\n",
    "# n, m = map(int, input().split())\n",
    "\n",
    "# n_dict = {}\n",
    "# m_dict = {}\n",
    "\n",
    "# for i in range(n):\n",
    "#     n_dict[input()] = True\n",
    "\n",
    "# for i in range(m):\n",
    "#     m_dict[input()] = True\n",
    "\n",
    "# count = len(set(n_dict.keys()) & set(m_dict.keys()))\n",
    "# print(count)\n",
    "\n",
    "n, m = map(int, input().split())\n",
    "\n",
    "s = set()\n",
    "for _ in range(n):\n",
    "    s.add(input())\n",
    "\n",
    "s_prime = []\n",
    "for _ in range(m):\n",
    "    s_prime.append(input())\n",
    "\n",
    "count = 0\n",
    "for word in s_prime:\n",
    "    if word in s:\n",
    "        count += 1\n",
    "\n",
    "print(count)"
   ]
  },
  {
   "cell_type": "code",
   "execution_count": 18,
   "metadata": {},
   "outputs": [
    {
     "name": "stdout",
     "output_type": "stream",
     "text": [
      "Askar\n",
      "Artem\n"
     ]
    }
   ],
   "source": [
    "# #지금 코드 0(n^2) .. list and remove\n",
    "# n = int(input())\n",
    "# enter_list = []\n",
    "# for i in range(0,n):\n",
    "#     name , check = input().split()\n",
    "    \n",
    "#     if check == \"enter\":\n",
    "#         enter_list.append(name)\n",
    "#     else:\n",
    "#         enter_list.remove(name)\n",
    "\n",
    "# enter_list = set(enter_list)\n",
    "# enter_list = sorted(list(enter_list), reverse=True)\n",
    "\n",
    "# for i in enter_list:\n",
    "#     print(i)\n",
    "#set 형으로 바꿔서 o n으로 줄어듬\n",
    "\n",
    "n = int(input())\n",
    "enter_set = set()\n",
    "\n",
    "for i in range(0,n):\n",
    "    name , check = input().split()\n",
    "    \n",
    "    if check == \"enter\":\n",
    "        enter_set.add(name)\n",
    "    else:\n",
    "        enter_set.remove(name)\n",
    "\n",
    "enter_list = sorted(list(enter_set), reverse=True)\n",
    "\n",
    "for i in enter_list:\n",
    "    print(i)"
   ]
  },
  {
   "cell_type": "code",
   "execution_count": 22,
   "metadata": {},
   "outputs": [
    {
     "name": "stdout",
     "output_type": "stream",
     "text": [
      "5\n",
      "3\n",
      "{5: 2, 3: 2, 1: 1}\n"
     ]
    }
   ],
   "source": [
    "n = int(input())\n",
    "card_list = list(map(int, input().split()))\n",
    "m = int(input())\n",
    "check_list = list(map(int, input().split()))\n",
    "\n",
    "\n",
    "card_dict = {}\n",
    "for card in card_list:\n",
    "    if card in card_dict:\n",
    "        card_dict[card] += 1\n",
    "    else:\n",
    "        card_dict[card] = 1\n",
    "        \n",
    "for check in check_list:\n",
    "    if check in card_dict and card_dict[check] > 0:\n",
    "        print(1, end=' ')\n",
    "        card_dict[check] -= 1\n",
    "    else:\n",
    "        print(0, end=' ')"
   ]
  }
 ],
 "metadata": {
  "kernelspec": {
   "display_name": "Python 3",
   "language": "python",
   "name": "python3"
  },
  "language_info": {
   "codemirror_mode": {
    "name": "ipython",
    "version": 3
   },
   "file_extension": ".py",
   "mimetype": "text/x-python",
   "name": "python",
   "nbconvert_exporter": "python",
   "pygments_lexer": "ipython3",
   "version": "3.11.1"
  },
  "orig_nbformat": 4
 },
 "nbformat": 4,
 "nbformat_minor": 2
}
