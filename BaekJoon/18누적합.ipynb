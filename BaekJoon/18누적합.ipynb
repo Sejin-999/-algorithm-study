{
 "cells": [
  {
   "cell_type": "code",
   "execution_count": 7,
   "metadata": {},
   "outputs": [
    {
     "name": "stdout",
     "output_type": "stream",
     "text": [
      "12\n",
      "9\n",
      "1\n"
     ]
    }
   ],
   "source": [
    "# n , m = map(int , input().split())\n",
    "# num_list = list(map(int , input().split()))\n",
    "\n",
    "# prefix_sum = [0] * n\n",
    "# prefix_sum[0] = num_list[0]\n",
    "\n",
    "# for i in range(1, n):\n",
    "#     prefix_sum[i] = prefix_sum[i-1] + num_list[i]\n",
    "    \n",
    "# for _ in range(m):\n",
    "#     x, y = map(int, input().split())\n",
    "#     if x == 1:\n",
    "#         print(prefix_sum[y-1])\n",
    "#     else:\n",
    "#         print(prefix_sum[y-1] - prefix_sum[x-2])\n",
    "\n",
    "import sys\n",
    "\n",
    "n, m = map(int, sys.stdin.readline().split())\n",
    "num_list = list(map(int, sys.stdin.readline().split()))\n",
    "\n",
    "prefix_sum = [0] * n\n",
    "prefix_sum[0] = num_list[0]\n",
    "\n",
    "for i in range(1, n):\n",
    "    prefix_sum[i] = prefix_sum[i-1] + num_list[i]\n",
    "\n",
    "for _ in range(m):\n",
    "    x, y = map(int, sys.stdin.readline().split())\n",
    "    if x == 1:\n",
    "        print(prefix_sum[y-1])\n",
    "    else:\n",
    "        print(prefix_sum[y-1] - prefix_sum[x-2])\n"
   ]
  }
 ],
 "metadata": {
  "kernelspec": {
   "display_name": "Python 3",
   "language": "python",
   "name": "python3"
  },
  "language_info": {
   "codemirror_mode": {
    "name": "ipython",
    "version": 3
   },
   "file_extension": ".py",
   "mimetype": "text/x-python",
   "name": "python",
   "nbconvert_exporter": "python",
   "pygments_lexer": "ipython3",
   "version": "3.11.1"
  },
  "orig_nbformat": 4
 },
 "nbformat": 4,
 "nbformat_minor": 2
}
