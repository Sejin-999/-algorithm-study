{
 "cells": [
  {
   "cell_type": "code",
   "execution_count": 11,
   "id": "e8e287b5",
   "metadata": {},
   "outputs": [
    {
     "name": "stdout",
     "output_type": "stream",
     "text": [
      "11\n",
      "1 4 1 2 4 2 4 2 3 4 4\n",
      "2\n",
      "3\n"
     ]
    }
   ],
   "source": [
    "n = int(input())\n",
    "getList = input()\n",
    "list = getList.split()\n",
    "find_value = int(input())\n",
    "count = 0\n",
    "\n",
    "for i in range(len(list)):\n",
    "    if int(list[i]) == find_value:\n",
    "        count += 1\n",
    "print (count)\n",
    "\n",
    "\n",
    "    \n"
   ]
  },
  {
   "cell_type": "code",
   "execution_count": 18,
   "id": "67a809ec",
   "metadata": {},
   "outputs": [
    {
     "name": "stdout",
     "output_type": "stream",
     "text": [
      "10 5\n",
      "1 10 4 9 2 3 8 5 7 6\n",
      "1 4 2 3 "
     ]
    }
   ],
   "source": [
    "a,find_value = map(int ,input().split())\n",
    "getList = input()\n",
    "list = getList.split()\n",
    "\n",
    "find_list = []\n",
    "\n",
    "for i in range(len(list)):\n",
    "    if int(list[i]) < find_value:\n",
    "        print(list[i] , end=\" \")\n",
    "        "
   ]
  },
  {
   "cell_type": "code",
   "execution_count": 25,
   "id": "758ccea4",
   "metadata": {},
   "outputs": [
    {
     "name": "stdout",
     "output_type": "stream",
     "text": [
      "5\n",
      "20 10 35 30 7\n",
      "7 35\n"
     ]
    }
   ],
   "source": [
    "n = int(input())\n",
    "\n",
    "getList = input()\n",
    "list = getList.split()\n",
    "max_value = int(list[0])\n",
    "min_value = int(list[0])\n",
    "    \n",
    "for i in range(len(list)):\n",
    "    value = int(list[i])\n",
    "    \n",
    "    if value >max_value:\n",
    "        max_value = value\n",
    "    elif value <min_value:\n",
    "        min_value = value\n",
    "        \n",
    "print(min_value,max_value)\n",
    "\n"
   ]
  },
  {
   "cell_type": "code",
   "execution_count": 28,
   "id": "5fb8fee0",
   "metadata": {},
   "outputs": [
    {
     "name": "stdout",
     "output_type": "stream",
     "text": [
      "123\n",
      "12\n",
      "552\n",
      "3\n",
      "876\n",
      "35\n",
      "24\n",
      "543\n",
      "21\n",
      "876\n",
      "5\n"
     ]
    }
   ],
   "source": [
    "flag = 0\n",
    "max_value = 0\n",
    "list = []\n",
    "last_max =1 \n",
    "count = 0\n",
    "\n",
    "\n",
    "while flag <9:\n",
    "    x = int(input())\n",
    "    list.append(x)\n",
    "    flag+=1\n",
    "    \n",
    "for i in range(len(list)):\n",
    "    count+=1\n",
    "    \n",
    "    if list[i] > max_value:\n",
    "        max_value = list[i]\n",
    "        last_max = count\n",
    "\n",
    "        \n",
    "print(max_value,\"\\n\",last_max , sep=\"\")"
   ]
  },
  {
   "cell_type": "markdown",
   "id": "261f49c8",
   "metadata": {},
   "source": [
    "n,m = map(int ,input().split())\n"
   ]
  },
  {
   "cell_type": "code",
   "execution_count": 31,
   "id": "40c4aba6",
   "metadata": {},
   "outputs": [
    {
     "name": "stdout",
     "output_type": "stream",
     "text": [
      "5 4\n",
      "[0, 0, 0, 0, 0]\n",
      "1 2 3\n",
      "3 4 4\n",
      "1 4 1\n",
      "2 2 2\n",
      "1 2 1 1 0 "
     ]
    }
   ],
   "source": [
    "n,m = map(int ,input().split())\n",
    "\n",
    "ball_list = [0]*n\n",
    "\n",
    "# print(ball_list)\n",
    "\n",
    "for q in range(m):\n",
    "    i,j,k = map(int ,input().split())\n",
    "    for p in range(i-1 , j):\n",
    "        ball_list[p] = k\n",
    "\n",
    "for ball in ball_list:\n",
    "    print(ball , end=\" \")\n",
    "\n"
   ]
  },
  {
   "cell_type": "code",
   "execution_count": 48,
   "id": "ab1e6f20",
   "metadata": {},
   "outputs": [
    {
     "name": "stdout",
     "output_type": "stream",
     "text": [
      "5 4\n",
      "1 2\n",
      "3 4\n",
      "1 4\n",
      "2 2\n",
      "3 1 4 2 5 "
     ]
    }
   ],
   "source": [
    "n,m = map(int ,input().split())\n",
    "ball_list = [i+1 for i in range(n)]\n",
    "    \n",
    "# print(ball_list)\n",
    "\n",
    "\n",
    "for _ in range(m):\n",
    "    i,j = map(int ,input().split())\n",
    "    ball_list[i-1] , ball_list[j-1] = ball_list[j-1] , ball_list[i-1]\n",
    "\n",
    "    \n",
    "for i in ball_list:\n",
    "    print (i , end=\" \")\n"
   ]
  },
  {
   "cell_type": "code",
   "execution_count": 9,
   "id": "78a55953",
   "metadata": {},
   "outputs": [
    {
     "name": "stdout",
     "output_type": "stream",
     "text": [
      "1\n",
      "2\n",
      "3\n",
      "4\n",
      "5\n",
      "6\n",
      "7\n",
      "8\n",
      "9\n",
      "10\n",
      "11\n",
      "12\n",
      "13\n",
      "14\n",
      "15\n",
      "16\n",
      "17\n",
      "18\n",
      "19\n",
      "20\n",
      "21\n",
      "22\n",
      "23\n",
      "24\n",
      "25\n",
      "26\n",
      "27\n",
      "28\n",
      "[0, 0, 0, 0, 0, 0, 0, 0, 0, 0, 0, 0, 0, 0, 0, 0, 0, 0, 0, 0, 0, 0, 0, 0, 0, 0, 0, 0, 29, 30]\n",
      "29\n",
      "30\n"
     ]
    }
   ],
   "source": [
    "count = 28\n",
    "student_list = [i+1 for i in range(count+2)]\n",
    "\n",
    "while count >0 :\n",
    "    a = int(input())\n",
    "    student_list[a-1] = 0\n",
    "    count -=1  \n",
    "    \n",
    "nonZero_list = [x for x in student_list if x != 0]\n",
    "for i in nonZero_list :\n",
    "    print (i)\n",
    "\n",
    "\n",
    "# test_list = [0]*count+2\n",
    "## test_code Start\n",
    "# test_list[1] = 2\n",
    "# test_list[7] = 8\n",
    "\n",
    "# print(test_list)\n",
    "\n",
    "# test_nonZero_list = [x for x in test_list if x != 0]\n",
    "# print(test_nonZero_list)\n",
    "\n",
    "# for i in test_nonZero_list :\n",
    "#     print (i)\n",
    "## test_code end"
   ]
  },
  {
   "cell_type": "markdown",
   "id": "d15903bb",
   "metadata": {},
   "source": [
    "count_value = 10\n",
    "li_list = []\n",
    "\n",
    "while count_value > 0 :\n",
    "    n = int(input())\n",
    "    res_n = n%42\n",
    "    li_list.append(res_n)\n",
    "\n",
    "print(li_list)\n"
   ]
  },
  {
   "cell_type": "code",
   "execution_count": 8,
   "id": "79a6ed61",
   "metadata": {},
   "outputs": [
    {
     "name": "stdout",
     "output_type": "stream",
     "text": [
      "1\n",
      "2\n",
      "34\n",
      "4\n",
      "5\n",
      "7\n",
      "8\n",
      "9\n",
      "12\n",
      "5\n",
      "9\n"
     ]
    }
   ],
   "source": [
    "count_value = 10\n",
    "li_list = []\n",
    "\n",
    "while count_value > 0 :\n",
    "    n = int(input())\n",
    "    res_n = n%42\n",
    "    li_list.append(res_n)\n",
    "    count_value -= 1\n",
    "\n",
    "res_list = list(set(li_list))\n",
    "print(len(res_list))\n",
    "\n",
    "## test_code start\n",
    "# test_list = [1,2,3,4,5,6,1,2,3,4]\n",
    "# res_test = list(set(test_list))\n",
    "# count = len(res_test)\n",
    "# print(count)"
   ]
  },
  {
   "cell_type": "code",
   "execution_count": 25,
   "id": "5277ef37",
   "metadata": {},
   "outputs": [
    {
     "name": "stdout",
     "output_type": "stream",
     "text": [
      "5 4\n",
      "1 2\n",
      "3 4\n",
      "1 4\n",
      "2 2\n",
      "3 4 1 2 5 "
     ]
    }
   ],
   "source": [
    "n,m = map(int ,input().split())\n",
    "ball_list = [i+1 for i in range(n)]\n",
    "\n",
    "for _ in range(m):\n",
    "    i,j = map(int ,input().split())\n",
    "    ball_list [i-1:j] = reversed(ball_list[i-1:j])\n",
    "\n",
    "for q in ball_list:\n",
    "    print(q , end=\" \")\n",
    "\n",
    "\n",
    "\n",
    "\n",
    "#testlist = [1,2,3,4,5]\n",
    "# testlist [i-1:j] = reversed(testlist[i-1:j])\n",
    "# print(testlist)\n",
    "\n",
    "\n",
    "# k = j-i\n",
    "\n",
    "# for _ in range(k) :\n",
    "#     testlist[i-k] , testlist[j-k] = testlist[j-k] , testlist[i-k]\n",
    "#     k-=1\n",
    "#     print(testlist)\n",
    "    \n",
    "# print(testlist)\n"
   ]
  },
  {
   "cell_type": "code",
   "execution_count": 49,
   "id": "38d00bde",
   "metadata": {},
   "outputs": [
    {
     "name": "stdout",
     "output_type": "stream",
     "text": [
      "3\n",
      "10 20 30\n",
      "66.66666666666667\n"
     ]
    }
   ],
   "source": [
    "n = int(input())\n",
    "score_list = input()\n",
    "new_score_list = []\n",
    "max_score = 0\n",
    "res =0\n",
    "\n",
    "for i in score_list.split():\n",
    "    new_score_list.append(int(i))\n",
    "    if max_score < int(i) :\n",
    "        max_score = int(i)\n",
    "    \n",
    "for idx, score in enumerate(new_score_list):\n",
    "    new_score_list[idx] = round(score / max_score * 100)\n",
    "\n",
    "# print(new_score_list)\n",
    "\n",
    "for  idx2 in new_score_list :\n",
    "    res += idx2\n",
    "\n",
    "print(res/len(new_score_list))\n",
    "\n",
    "# print(new_score_list)\n",
    "# print(max_value)\n",
    "\n",
    "# enumerate는 파이썬 내장함수 중 하나로, 리스트나 튜플과 같은 순서형 자료형의 요소들과 같이 인덱스가 존재하는 자료형을 순회하며, 요소의 인덱스와 값을 동시에 반환합니다. 반환되는 값은 (인덱스, 요소값)의 형태로 이루어져 있습니다.\n",
    "\n",
    "# 예를 들어, enumerate(['a', 'b', 'c'])를 실행하면 (0, 'a'), (1, 'b'), (2, 'c')와 같이 반환됩니다.\n",
    "\n",
    "# 위 코드에서 for idx, score in enumerate(new_score_list)는 new_score_list를 순회하며 인덱스와 값을 차례로 idx와 score에 할당하는 것입니다. idx에는 0부터 시작하는 인덱스 값이, score에는 new_score_list의 해당 인덱스에 해당하는 값이 할당됩니다."
   ]
  },
  {
   "cell_type": "code",
   "execution_count": null,
   "id": "95b9a0e4",
   "metadata": {},
   "outputs": [],
   "source": []
  },
  {
   "cell_type": "code",
   "execution_count": null,
   "id": "f1b0d09e",
   "metadata": {},
   "outputs": [],
   "source": []
  }
 ],
 "metadata": {
  "kernelspec": {
   "display_name": "Python 3 (ipykernel)",
   "language": "python",
   "name": "python3"
  },
  "language_info": {
   "codemirror_mode": {
    "name": "ipython",
    "version": 3
   },
   "file_extension": ".py",
   "mimetype": "text/x-python",
   "name": "python",
   "nbconvert_exporter": "python",
   "pygments_lexer": "ipython3",
   "version": "3.9.13"
  }
 },
 "nbformat": 4,
 "nbformat_minor": 5
}
